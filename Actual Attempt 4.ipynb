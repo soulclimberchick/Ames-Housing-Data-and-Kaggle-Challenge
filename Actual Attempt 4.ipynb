{
 "cells": [
  {
   "cell_type": "code",
   "execution_count": 1,
   "metadata": {},
   "outputs": [],
   "source": [
    "import pandas as pd\n",
    "import numpy as np\n",
    "import seaborn as sns\n",
    "from bokeh.io import output_file\n",
    "from bokeh.plotting import figure, show\n",
    "import matplotlib.pyplot as plt\n",
    "from sklearn.linear_model import LinearRegression, LassoCV, RidgeCV\n",
    "from sklearn.preprocessing import StandardScaler\n",
    "from sklearn.model_selection import train_test_split, cross_val_score, cross_val_predict\n",
    "from sklearn.metrics import r2_score\n",
    "\n",
    "%matplotlib inline\n",
    "%config InlineBackend.figure_format='retina'"
   ]
  },
  {
   "cell_type": "code",
   "execution_count": 2,
   "metadata": {},
   "outputs": [],
   "source": [
    "s_train = pd.read_csv('datasets/clean_train.csv')\n",
    "s_test = pd.read_csv('datasets/clean_test.csv')"
   ]
  },
  {
   "cell_type": "code",
   "execution_count": 3,
   "metadata": {},
   "outputs": [
    {
     "data": {
      "text/plain": [
       "0       1479\n",
       "1       2122\n",
       "2       1057\n",
       "3       1444\n",
       "4       1445\n",
       "        ... \n",
       "1981    1728\n",
       "1982     861\n",
       "1983    1913\n",
       "1984    1200\n",
       "1985    1804\n",
       "Name: gr_liv_area, Length: 1986, dtype: int64"
      ]
     },
     "execution_count": 3,
     "metadata": {},
     "output_type": "execute_result"
    }
   ],
   "source": [
    "s_train['gr_liv_area']"
   ]
  },
  {
   "cell_type": "code",
   "execution_count": 4,
   "metadata": {},
   "outputs": [
    {
     "data": {
      "text/plain": [
       "0"
      ]
     },
     "execution_count": 4,
     "metadata": {},
     "output_type": "execute_result"
    }
   ],
   "source": [
    "s_train['gr_liv_area'].isnull().sum()"
   ]
  },
  {
   "cell_type": "code",
   "execution_count": 5,
   "metadata": {},
   "outputs": [
    {
     "name": "stdout",
     "output_type": "stream",
     "text": [
      "       overall_qual  overall_cond   1st_flr_sf   exter_qual  gr_liv_area  \\\n",
      "count   1986.000000   1986.000000  1986.000000  1986.000000  1986.000000   \n",
      "mean       6.059919      5.580564  1141.909366     2.616818  1468.120342   \n",
      "std        1.337291      1.094435   350.174731     0.557702   442.006556   \n",
      "min        1.000000      1.000000   372.000000     1.000000   438.000000   \n",
      "25%        5.000000      5.000000   878.000000     2.000000  1125.250000   \n",
      "50%        6.000000      5.000000  1081.500000     3.000000  1432.000000   \n",
      "75%        7.000000      6.000000  1368.000000     3.000000  1710.000000   \n",
      "max       10.000000      9.000000  2898.000000     4.000000  2956.000000   \n",
      "\n",
      "       garage_area  garage_cars  total_bsmt_sf   year_built    full_bath  \n",
      "count  1986.000000  1986.000000    1986.000000  1986.000000  1986.000000  \n",
      "mean    465.289023     1.753273    1034.634441  1971.370594     1.562437  \n",
      "std     206.647658     0.746142     398.685408    29.842029     0.539034  \n",
      "min       0.000000     0.000000       0.000000  1872.000000     0.000000  \n",
      "25%     315.250000     1.000000     789.500000  1954.000000     1.000000  \n",
      "50%     478.000000     2.000000     988.000000  1973.000000     2.000000  \n",
      "75%     576.000000     2.000000    1283.500000  2000.000000     2.000000  \n",
      "max    1356.000000     5.000000    3206.000000  2010.000000     4.000000  \n",
      "count      1986.000000\n",
      "mean     175450.263847\n",
      "std       65798.980319\n",
      "min       50138.000000\n",
      "25%      129500.000000\n",
      "50%      160000.000000\n",
      "75%      210000.000000\n",
      "max      398800.000000\n",
      "Name: saleprice, dtype: float64\n"
     ]
    }
   ],
   "source": [
    "#Trying out a very small model first. \n",
    "features = ['overall_qual', 'overall_cond', '1st_flr_sf', 'exter_qual', 'gr_liv_area', 'garage_area', 'garage_cars', 'total_bsmt_sf', 'year_built', 'full_bath']\n",
    "X = s_train[features]\n",
    "y = s_train['saleprice']\n",
    "X_test_data = s_test[features]\n",
    "print(X.describe())\n",
    "print(y.describe())"
   ]
  },
  {
   "cell_type": "code",
   "execution_count": 6,
   "metadata": {},
   "outputs": [
    {
     "data": {
      "text/plain": [
       "overall_qual     0\n",
       "overall_cond     0\n",
       "1st_flr_sf       0\n",
       "exter_qual       0\n",
       "gr_liv_area      0\n",
       "garage_area      0\n",
       "garage_cars      0\n",
       "total_bsmt_sf    0\n",
       "year_built       0\n",
       "full_bath        0\n",
       "dtype: int64"
      ]
     },
     "execution_count": 6,
     "metadata": {},
     "output_type": "execute_result"
    }
   ],
   "source": [
    "s_train[features].isnull().sum()"
   ]
  },
  {
   "cell_type": "code",
   "execution_count": 7,
   "metadata": {},
   "outputs": [
    {
     "data": {
      "text/plain": [
       "overall_qual     0\n",
       "overall_cond     0\n",
       "1st_flr_sf       0\n",
       "exter_qual       0\n",
       "gr_liv_area      0\n",
       "garage_area      0\n",
       "garage_cars      0\n",
       "total_bsmt_sf    0\n",
       "year_built       0\n",
       "full_bath        0\n",
       "dtype: int64"
      ]
     },
     "execution_count": 7,
     "metadata": {},
     "output_type": "execute_result"
    }
   ],
   "source": [
    "s_test[features].isnull().sum()"
   ]
  },
  {
   "cell_type": "code",
   "execution_count": 8,
   "metadata": {},
   "outputs": [
    {
     "data": {
      "text/plain": [
       "overall_qual     0\n",
       "overall_cond     0\n",
       "1st_flr_sf       0\n",
       "exter_qual       0\n",
       "gr_liv_area      0\n",
       "garage_area      0\n",
       "garage_cars      0\n",
       "total_bsmt_sf    0\n",
       "year_built       0\n",
       "full_bath        0\n",
       "dtype: int64"
      ]
     },
     "execution_count": 8,
     "metadata": {},
     "output_type": "execute_result"
    }
   ],
   "source": [
    "X.isnull().sum()"
   ]
  },
  {
   "cell_type": "code",
   "execution_count": 9,
   "metadata": {},
   "outputs": [
    {
     "data": {
      "text/plain": [
       "0"
      ]
     },
     "execution_count": 9,
     "metadata": {},
     "output_type": "execute_result"
    }
   ],
   "source": [
    "y.isnull().sum()"
   ]
  },
  {
   "cell_type": "code",
   "execution_count": 10,
   "metadata": {},
   "outputs": [
    {
     "data": {
      "text/plain": [
       "0"
      ]
     },
     "execution_count": 10,
     "metadata": {},
     "output_type": "execute_result"
    }
   ],
   "source": [
    "s_train['saleprice'].isnull().sum()"
   ]
  },
  {
   "cell_type": "code",
   "execution_count": 11,
   "metadata": {},
   "outputs": [
    {
     "data": {
      "text/plain": [
       "<matplotlib.collections.PathCollection at 0x7ff1bb4c23d0>"
      ]
     },
     "execution_count": 11,
     "metadata": {},
     "output_type": "execute_result"
    },
    {
     "data": {
      "image/png": "[encoded data removed]",
      "text/plain": [
       "<Figure size 432x288 with 1 Axes>"
      ]
     },
     "metadata": {
      "image/png": {
       "height": 248,
       "width": 374
      },
      "needs_background": "light"
     },
     "output_type": "display_data"
    }
   ],
   "source": [
    "plt.scatter(s_train['saleprice'], s_train['overall_qual'])"
   ]
  },
  {
   "cell_type": "code",
   "execution_count": 12,
   "metadata": {},
   "outputs": [],
   "source": [
    "# Output the visualization directly in the notebook\n",
    "output_file('first_glyphs.html', title='First Glyphs')\n",
    "\n",
    "# Create a figure with no toolbar and axis ranges of [0,3]\n",
    "fig = figure(title='My Coordinates',\n",
    "             plot_height=300, plot_width=300,\n",
    "             x_range=(0, 3), y_range=(0, 3),\n",
    "             toolbar_location=None)\n",
    "\n",
    "# Draw the coordinates as circles\n",
    "fig.circle(x=s_train['saleprice'], y=s_train['overall_qual'],\n",
    "           color='green', size=10, alpha=0.5)\n",
    "\n",
    "# Show plot\n",
    "show(fig)"
   ]
  },
  {
   "cell_type": "code",
   "execution_count": 13,
   "metadata": {},
   "outputs": [
    {
     "data": {
      "text/plain": [
       "(array([ 77., 257., 581., 426., 245., 156., 112.,  67.,  36.,  29.]),\n",
       " array([ 50138. ,  85004.2, 119870.4, 154736.6, 189602.8, 224469. ,\n",
       "        259335.2, 294201.4, 329067.6, 363933.8, 398800. ]),\n",
       " <BarContainer object of 10 artists>)"
      ]
     },
     "execution_count": 13,
     "metadata": {},
     "output_type": "execute_result"
    },
    {
     "data": {
      "image/png": "[encoded data removed]",
      "text/plain": [
       "<Figure size 432x288 with 1 Axes>"
      ]
     },
     "metadata": {
      "image/png": {
       "height": 248,
       "width": 380
      },
      "needs_background": "light"
     },
     "output_type": "display_data"
    }
   ],
   "source": [
    "plt.hist(s_train['saleprice'])"
   ]
  },
  {
   "cell_type": "code",
   "execution_count": 14,
   "metadata": {},
   "outputs": [
    {
     "data": {
      "text/plain": [
       "(array([ 17., 192., 382., 426., 455., 246., 127.,  67.,  55.,  19.]),\n",
       " array([ 438. ,  689.8,  941.6, 1193.4, 1445.2, 1697. , 1948.8, 2200.6,\n",
       "        2452.4, 2704.2, 2956. ]),\n",
       " <BarContainer object of 10 artists>)"
      ]
     },
     "execution_count": 14,
     "metadata": {},
     "output_type": "execute_result"
    },
    {
     "data": {
      "image/png": "[encoded data removed]",
      "text/plain": [
       "<Figure size 432x288 with 1 Axes>"
      ]
     },
     "metadata": {
      "image/png": {
       "height": 248,
       "width": 378
      },
      "needs_background": "light"
     },
     "output_type": "display_data"
    }
   ],
   "source": [
    "plt.hist(s_train['gr_liv_area'])"
   ]
  },
  {
   "cell_type": "code",
   "execution_count": 15,
   "metadata": {},
   "outputs": [],
   "source": [
    "X_train, X_test, y_train, y_test = train_test_split(X, y, train_size=0.80, random_state=76)"
   ]
  },
  {
   "cell_type": "code",
   "execution_count": 16,
   "metadata": {},
   "outputs": [],
   "source": [
    "sc = StandardScaler()\n",
    "X_scaled = sc.fit_transform(X_train)\n",
    "X_test_scaled = sc.transform(X_test)"
   ]
  },
  {
   "cell_type": "code",
   "execution_count": 17,
   "metadata": {},
   "outputs": [
    {
     "data": {
      "text/plain": [
       "(1588, 10)"
      ]
     },
     "execution_count": 17,
     "metadata": {},
     "output_type": "execute_result"
    }
   ],
   "source": [
    "X_scaled.shape"
   ]
  },
  {
   "cell_type": "code",
   "execution_count": 18,
   "metadata": {},
   "outputs": [
    {
     "data": {
      "text/plain": [
       "numpy.ndarray"
      ]
     },
     "execution_count": 18,
     "metadata": {},
     "output_type": "execute_result"
    }
   ],
   "source": [
    "type(X_scaled)"
   ]
  },
  {
   "cell_type": "code",
   "execution_count": 19,
   "metadata": {},
   "outputs": [
    {
     "data": {
      "text/plain": [
       "(398, 10)"
      ]
     },
     "execution_count": 19,
     "metadata": {},
     "output_type": "execute_result"
    }
   ],
   "source": [
    "X_test_scaled.shape"
   ]
  },
  {
   "cell_type": "code",
   "execution_count": 20,
   "metadata": {},
   "outputs": [
    {
     "data": {
      "text/plain": [
       "(               overall_qual  overall_cond  1st_flr_sf  exter_qual  \\\n",
       " overall_qual       1.000000     -0.100212    0.412787   -0.702511   \n",
       " overall_cond      -0.100212      1.000000   -0.162273    0.154580   \n",
       " 1st_flr_sf         0.412787     -0.162273    1.000000   -0.332183   \n",
       " exter_qual        -0.702511      0.154580   -0.332183    1.000000   \n",
       " gr_liv_area        0.528031     -0.144987    0.470794   -0.397822   \n",
       " garage_area        0.508792     -0.155180    0.438804   -0.451884   \n",
       " garage_cars        0.542141     -0.178069    0.405769   -0.472097   \n",
       " total_bsmt_sf      0.499915     -0.176419    0.774100   -0.404178   \n",
       " year_built         0.601547     -0.382360    0.302136   -0.613853   \n",
       " full_bath          0.497918     -0.248853    0.347836   -0.444305   \n",
       " \n",
       "                gr_liv_area  garage_area  garage_cars  total_bsmt_sf  \\\n",
       " overall_qual      0.528031     0.508792     0.542141       0.499915   \n",
       " overall_cond     -0.144987    -0.155180    -0.178069      -0.176419   \n",
       " 1st_flr_sf        0.470794     0.438804     0.405769       0.774100   \n",
       " exter_qual       -0.397822    -0.451884    -0.472097      -0.404178   \n",
       " gr_liv_area       1.000000     0.441395     0.466820       0.349663   \n",
       " garage_area       0.441395     1.000000     0.891735       0.422148   \n",
       " garage_cars       0.466820     0.891735     1.000000       0.397223   \n",
       " total_bsmt_sf     0.349663     0.422148     0.397223       1.000000   \n",
       " year_built        0.266243     0.483336     0.529129       0.400381   \n",
       " full_bath         0.614646     0.384947     0.458802       0.313459   \n",
       " \n",
       "                year_built  full_bath  \n",
       " overall_qual     0.601547   0.497918  \n",
       " overall_cond    -0.382360  -0.248853  \n",
       " 1st_flr_sf       0.302136   0.347836  \n",
       " exter_qual      -0.613853  -0.444305  \n",
       " gr_liv_area      0.266243   0.614646  \n",
       " garage_area      0.483336   0.384947  \n",
       " garage_cars      0.529129   0.458802  \n",
       " total_bsmt_sf    0.400381   0.313459  \n",
       " year_built       1.000000   0.498444  \n",
       " full_bath        0.498444   1.000000  ,\n",
       " 398      50138\n",
       " 1947     51689\n",
       " 1332     52000\n",
       " 1890     52500\n",
       " 679      55000\n",
       "          ...  \n",
       " 1700    392500\n",
       " 1980    394617\n",
       " 1713    395000\n",
       " 1760    395039\n",
       " 1674    398800\n",
       " Name: saleprice, Length: 1986, dtype: int64)"
      ]
     },
     "execution_count": 20,
     "metadata": {},
     "output_type": "execute_result"
    }
   ],
   "source": [
    "X_train.corr(),s_train['saleprice'].sort_values()"
   ]
  },
  {
   "cell_type": "code",
   "execution_count": 21,
   "metadata": {},
   "outputs": [
    {
     "data": {
      "text/html": [
       "<div>\n",
       "<style scoped>\n",
       "    .dataframe tbody tr th:only-of-type {\n",
       "        vertical-align: middle;\n",
       "    }\n",
       "\n",
       "    .dataframe tbody tr th {\n",
       "        vertical-align: top;\n",
       "    }\n",
       "\n",
       "    .dataframe thead th {\n",
       "        text-align: right;\n",
       "    }\n",
       "</style>\n",
       "<table border=\"1\" class=\"dataframe\">\n",
       "  <thead>\n",
       "    <tr style=\"text-align: right;\">\n",
       "      <th></th>\n",
       "      <th>overall_qual</th>\n",
       "      <th>overall_cond</th>\n",
       "      <th>1st_flr_sf</th>\n",
       "      <th>exter_qual</th>\n",
       "      <th>gr_liv_area</th>\n",
       "      <th>garage_area</th>\n",
       "      <th>garage_cars</th>\n",
       "      <th>total_bsmt_sf</th>\n",
       "      <th>year_built</th>\n",
       "      <th>full_bath</th>\n",
       "    </tr>\n",
       "  </thead>\n",
       "  <tbody>\n",
       "    <tr>\n",
       "      <th>420</th>\n",
       "      <td>2</td>\n",
       "      <td>5</td>\n",
       "      <td>438</td>\n",
       "      <td>3</td>\n",
       "      <td>438</td>\n",
       "      <td>246.0</td>\n",
       "      <td>1.0</td>\n",
       "      <td>290.0</td>\n",
       "      <td>1920</td>\n",
       "      <td>1</td>\n",
       "    </tr>\n",
       "    <tr>\n",
       "      <th>1589</th>\n",
       "      <td>3</td>\n",
       "      <td>5</td>\n",
       "      <td>492</td>\n",
       "      <td>3</td>\n",
       "      <td>492</td>\n",
       "      <td>200.0</td>\n",
       "      <td>1.0</td>\n",
       "      <td>492.0</td>\n",
       "      <td>1921</td>\n",
       "      <td>1</td>\n",
       "    </tr>\n",
       "    <tr>\n",
       "      <th>76</th>\n",
       "      <td>4</td>\n",
       "      <td>6</td>\n",
       "      <td>520</td>\n",
       "      <td>3</td>\n",
       "      <td>520</td>\n",
       "      <td>240.0</td>\n",
       "      <td>1.0</td>\n",
       "      <td>520.0</td>\n",
       "      <td>1927</td>\n",
       "      <td>1</td>\n",
       "    </tr>\n",
       "    <tr>\n",
       "      <th>1954</th>\n",
       "      <td>2</td>\n",
       "      <td>5</td>\n",
       "      <td>540</td>\n",
       "      <td>3</td>\n",
       "      <td>540</td>\n",
       "      <td>200.0</td>\n",
       "      <td>1.0</td>\n",
       "      <td>480.0</td>\n",
       "      <td>1941</td>\n",
       "      <td>1</td>\n",
       "    </tr>\n",
       "    <tr>\n",
       "      <th>784</th>\n",
       "      <td>4</td>\n",
       "      <td>6</td>\n",
       "      <td>572</td>\n",
       "      <td>3</td>\n",
       "      <td>572</td>\n",
       "      <td>200.0</td>\n",
       "      <td>1.0</td>\n",
       "      <td>572.0</td>\n",
       "      <td>1925</td>\n",
       "      <td>1</td>\n",
       "    </tr>\n",
       "    <tr>\n",
       "      <th>...</th>\n",
       "      <td>...</td>\n",
       "      <td>...</td>\n",
       "      <td>...</td>\n",
       "      <td>...</td>\n",
       "      <td>...</td>\n",
       "      <td>...</td>\n",
       "      <td>...</td>\n",
       "      <td>...</td>\n",
       "      <td>...</td>\n",
       "      <td>...</td>\n",
       "    </tr>\n",
       "    <tr>\n",
       "      <th>1354</th>\n",
       "      <td>6</td>\n",
       "      <td>7</td>\n",
       "      <td>1542</td>\n",
       "      <td>3</td>\n",
       "      <td>2872</td>\n",
       "      <td>619.0</td>\n",
       "      <td>2.0</td>\n",
       "      <td>1330.0</td>\n",
       "      <td>1977</td>\n",
       "      <td>2</td>\n",
       "    </tr>\n",
       "    <tr>\n",
       "      <th>180</th>\n",
       "      <td>8</td>\n",
       "      <td>5</td>\n",
       "      <td>2129</td>\n",
       "      <td>2</td>\n",
       "      <td>2872</td>\n",
       "      <td>541.0</td>\n",
       "      <td>2.0</td>\n",
       "      <td>1683.0</td>\n",
       "      <td>1992</td>\n",
       "      <td>2</td>\n",
       "    </tr>\n",
       "    <tr>\n",
       "      <th>1205</th>\n",
       "      <td>8</td>\n",
       "      <td>6</td>\n",
       "      <td>2898</td>\n",
       "      <td>2</td>\n",
       "      <td>2898</td>\n",
       "      <td>665.0</td>\n",
       "      <td>2.0</td>\n",
       "      <td>1565.0</td>\n",
       "      <td>1976</td>\n",
       "      <td>2</td>\n",
       "    </tr>\n",
       "    <tr>\n",
       "      <th>122</th>\n",
       "      <td>9</td>\n",
       "      <td>3</td>\n",
       "      <td>1599</td>\n",
       "      <td>2</td>\n",
       "      <td>2944</td>\n",
       "      <td>864.0</td>\n",
       "      <td>3.0</td>\n",
       "      <td>994.0</td>\n",
       "      <td>1977</td>\n",
       "      <td>2</td>\n",
       "    </tr>\n",
       "    <tr>\n",
       "      <th>1301</th>\n",
       "      <td>8</td>\n",
       "      <td>5</td>\n",
       "      <td>1718</td>\n",
       "      <td>2</td>\n",
       "      <td>2956</td>\n",
       "      <td>916.0</td>\n",
       "      <td>3.0</td>\n",
       "      <td>1706.0</td>\n",
       "      <td>2004</td>\n",
       "      <td>2</td>\n",
       "    </tr>\n",
       "  </tbody>\n",
       "</table>\n",
       "<p>1986 rows × 10 columns</p>\n",
       "</div>"
      ],
      "text/plain": [
       "      overall_qual  overall_cond  1st_flr_sf  exter_qual  gr_liv_area  \\\n",
       "420              2             5         438           3          438   \n",
       "1589             3             5         492           3          492   \n",
       "76               4             6         520           3          520   \n",
       "1954             2             5         540           3          540   \n",
       "784              4             6         572           3          572   \n",
       "...            ...           ...         ...         ...          ...   \n",
       "1354             6             7        1542           3         2872   \n",
       "180              8             5        2129           2         2872   \n",
       "1205             8             6        2898           2         2898   \n",
       "122              9             3        1599           2         2944   \n",
       "1301             8             5        1718           2         2956   \n",
       "\n",
       "      garage_area  garage_cars  total_bsmt_sf  year_built  full_bath  \n",
       "420         246.0          1.0          290.0        1920          1  \n",
       "1589        200.0          1.0          492.0        1921          1  \n",
       "76          240.0          1.0          520.0        1927          1  \n",
       "1954        200.0          1.0          480.0        1941          1  \n",
       "784         200.0          1.0          572.0        1925          1  \n",
       "...           ...          ...            ...         ...        ...  \n",
       "1354        619.0          2.0         1330.0        1977          2  \n",
       "180         541.0          2.0         1683.0        1992          2  \n",
       "1205        665.0          2.0         1565.0        1976          2  \n",
       "122         864.0          3.0          994.0        1977          2  \n",
       "1301        916.0          3.0         1706.0        2004          2  \n",
       "\n",
       "[1986 rows x 10 columns]"
      ]
     },
     "execution_count": 21,
     "metadata": {},
     "output_type": "execute_result"
    }
   ],
   "source": [
    "s_train[features].sort_values(by='gr_liv_area', ascending=True)"
   ]
  },
  {
   "cell_type": "code",
   "execution_count": 22,
   "metadata": {},
   "outputs": [],
   "source": [
    "lr = LinearRegression()"
   ]
  },
  {
   "cell_type": "code",
   "execution_count": 23,
   "metadata": {},
   "outputs": [
    {
     "data": {
      "text/plain": [
       "LinearRegression()"
      ]
     },
     "execution_count": 23,
     "metadata": {},
     "output_type": "execute_result"
    }
   ],
   "source": [
    "lr.fit(X_train, y_train)"
   ]
  },
  {
   "cell_type": "code",
   "execution_count": 24,
   "metadata": {},
   "outputs": [
    {
     "data": {
      "text/plain": [
       "0.847013365201626"
      ]
     },
     "execution_count": 24,
     "metadata": {},
     "output_type": "execute_result"
    }
   ],
   "source": [
    "lr_scores = cross_val_score(lr, X_scaled, y_train, cv=3)\n",
    "lr_scores.mean()"
   ]
  },
  {
   "cell_type": "code",
   "execution_count": 25,
   "metadata": {},
   "outputs": [],
   "source": [
    "lasso = LassoCV(n_alphas=30)"
   ]
  },
  {
   "cell_type": "code",
   "execution_count": 26,
   "metadata": {},
   "outputs": [
    {
     "data": {
      "text/plain": [
       "LassoCV(n_alphas=30)"
      ]
     },
     "execution_count": 26,
     "metadata": {},
     "output_type": "execute_result"
    }
   ],
   "source": [
    "lasso.fit(X_scaled, y_train)"
   ]
  },
  {
   "cell_type": "code",
   "execution_count": 27,
   "metadata": {},
   "outputs": [
    {
     "data": {
      "text/plain": [
       "52.47454723437972"
      ]
     },
     "execution_count": 27,
     "metadata": {},
     "output_type": "execute_result"
    }
   ],
   "source": [
    "lasso.alpha_"
   ]
  },
  {
   "cell_type": "code",
   "execution_count": 28,
   "metadata": {},
   "outputs": [
    {
     "data": {
      "text/plain": [
       "(10,)"
      ]
     },
     "execution_count": 28,
     "metadata": {},
     "output_type": "execute_result"
    }
   ],
   "source": [
    "np.shape(lasso.coef_)"
   ]
  },
  {
   "cell_type": "code",
   "execution_count": 29,
   "metadata": {},
   "outputs": [
    {
     "data": {
      "text/plain": [
       "0.8125220627763596"
      ]
     },
     "execution_count": 29,
     "metadata": {},
     "output_type": "execute_result"
    }
   ],
   "source": [
    "lasso_scores = cross_val_score(lasso, X_test_scaled, y_test, cv=3)\n",
    "lasso_scores.mean()"
   ]
  },
  {
   "cell_type": "markdown",
   "metadata": {},
   "source": [
    "### Testing with Ridge Model ###"
   ]
  },
  {
   "cell_type": "code",
   "execution_count": 30,
   "metadata": {},
   "outputs": [],
   "source": [
    "ridge = RidgeCV(alphas=np.linspace(.1, 10, 100))"
   ]
  },
  {
   "cell_type": "code",
   "execution_count": 31,
   "metadata": {},
   "outputs": [
    {
     "data": {
      "text/plain": [
       "0.8469678914187746"
      ]
     },
     "execution_count": 31,
     "metadata": {},
     "output_type": "execute_result"
    }
   ],
   "source": [
    "ridge_scores = cross_val_score(ridge, X_train, y_train, cv=3)\n",
    "ridge_scores.mean()"
   ]
  },
  {
   "cell_type": "code",
   "execution_count": 32,
   "metadata": {},
   "outputs": [
    {
     "data": {
      "text/plain": [
       "RidgeCV(alphas=array([ 0.1,  0.2,  0.3,  0.4,  0.5,  0.6,  0.7,  0.8,  0.9,  1. ,  1.1,\n",
       "        1.2,  1.3,  1.4,  1.5,  1.6,  1.7,  1.8,  1.9,  2. ,  2.1,  2.2,\n",
       "        2.3,  2.4,  2.5,  2.6,  2.7,  2.8,  2.9,  3. ,  3.1,  3.2,  3.3,\n",
       "        3.4,  3.5,  3.6,  3.7,  3.8,  3.9,  4. ,  4.1,  4.2,  4.3,  4.4,\n",
       "        4.5,  4.6,  4.7,  4.8,  4.9,  5. ,  5.1,  5.2,  5.3,  5.4,  5.5,\n",
       "        5.6,  5.7,  5.8,  5.9,  6. ,  6.1,  6.2,  6.3,  6.4,  6.5,  6.6,\n",
       "        6.7,  6.8,  6.9,  7. ,  7.1,  7.2,  7.3,  7.4,  7.5,  7.6,  7.7,\n",
       "        7.8,  7.9,  8. ,  8.1,  8.2,  8.3,  8.4,  8.5,  8.6,  8.7,  8.8,\n",
       "        8.9,  9. ,  9.1,  9.2,  9.3,  9.4,  9.5,  9.6,  9.7,  9.8,  9.9,\n",
       "       10. ]))"
      ]
     },
     "execution_count": 32,
     "metadata": {},
     "output_type": "execute_result"
    }
   ],
   "source": [
    "ridge.fit(X_train, y_train)"
   ]
  },
  {
   "cell_type": "code",
   "execution_count": 33,
   "metadata": {},
   "outputs": [
    {
     "data": {
      "text/plain": [
       "0.8501087808144672"
      ]
     },
     "execution_count": 33,
     "metadata": {},
     "output_type": "execute_result"
    }
   ],
   "source": [
    "ridge.score(X_train, y_train)"
   ]
  },
  {
   "cell_type": "code",
   "execution_count": 34,
   "metadata": {},
   "outputs": [
    {
     "data": {
      "text/plain": [
       "0.8204985214189768"
      ]
     },
     "execution_count": 34,
     "metadata": {},
     "output_type": "execute_result"
    }
   ],
   "source": [
    "ridge.score(X_test, y_test)"
   ]
  },
  {
   "cell_type": "code",
   "execution_count": 35,
   "metadata": {},
   "outputs": [
    {
     "data": {
      "text/plain": [
       "0.8469678914187746"
      ]
     },
     "execution_count": 35,
     "metadata": {},
     "output_type": "execute_result"
    }
   ],
   "source": [
    "ridge_scores.mean()"
   ]
  },
  {
   "cell_type": "code",
   "execution_count": 36,
   "metadata": {},
   "outputs": [
    {
     "data": {
      "text/plain": [
       "array([153621.9421742 , 203279.76067666, 305300.98631837, 141594.15862121,\n",
       "       186388.04692714, 153555.24302419, 127425.06529123, 216117.64948552,\n",
       "       216624.25861161, 259529.07124143])"
      ]
     },
     "execution_count": 36,
     "metadata": {},
     "output_type": "execute_result"
    }
   ],
   "source": [
    "pred = ridge.predict(X_test)\n",
    "pred[:10]"
   ]
  },
  {
   "cell_type": "code",
   "execution_count": 37,
   "metadata": {},
   "outputs": [],
   "source": [
    "residuals = y_test - pred"
   ]
  },
  {
   "cell_type": "code",
   "execution_count": 38,
   "metadata": {},
   "outputs": [
    {
     "data": {
      "text/plain": [
       "-155300.98631837475"
      ]
     },
     "execution_count": 38,
     "metadata": {},
     "output_type": "execute_result"
    }
   ],
   "source": [
    "residuals.min()"
   ]
  },
  {
   "cell_type": "code",
   "execution_count": 39,
   "metadata": {},
   "outputs": [
    {
     "data": {
      "text/plain": [
       "array([153621.9421742 , 203279.76067666, 305300.98631837, 141594.15862121,\n",
       "       186388.04692714, 153555.24302419, 127425.06529123, 216117.64948552,\n",
       "       216624.25861161, 259529.07124143])"
      ]
     },
     "execution_count": 39,
     "metadata": {},
     "output_type": "execute_result"
    }
   ],
   "source": [
    "pred[:10]"
   ]
  },
  {
   "cell_type": "code",
   "execution_count": 40,
   "metadata": {},
   "outputs": [
    {
     "data": {
      "text/plain": [
       "0.8204985214189768"
      ]
     },
     "execution_count": 40,
     "metadata": {},
     "output_type": "execute_result"
    }
   ],
   "source": [
    "r2_score(y_test, pred)"
   ]
  },
  {
   "cell_type": "code",
   "execution_count": 71,
   "metadata": {},
   "outputs": [
    {
     "data": {
      "image/png": "[encoded data removed]",
      "text/plain": [
       "<Figure size 1080x504 with 1 Axes>"
      ]
     },
     "metadata": {
      "image/png": {
       "height": 498,
       "width": 912
      },
      "needs_background": "dark"
     },
     "output_type": "display_data"
    }
   ],
   "source": [
    "# Let's take a look at the coefficients of each feature \n",
    "pd.Series(ridge.coef_, index=features).plot.bar(figsize=(15, 7), color='#00cfcc')\n",
    "plt.title('Features against Ridge Coefficient', color='white')\n",
    "plt.xlabel('Features', color='white')\n",
    "plt.ylabel('Coefficient Value', color='white')\n",
    "plt.xticks(color='white')\n",
    "plt.yticks(color='white')\n",
    "plt.savefig('datasets/feature_coefficients_graph_4', transparent=True);\n",
    "# Text is white for presentation"
   ]
  },
  {
   "cell_type": "code",
   "execution_count": null,
   "metadata": {},
   "outputs": [],
   "source": []
  },
  {
   "cell_type": "code",
   "execution_count": null,
   "metadata": {},
   "outputs": [],
   "source": []
  },
  {
   "cell_type": "code",
   "execution_count": 42,
   "metadata": {},
   "outputs": [
    {
     "data": {
      "text/html": [
       "<div>\n",
       "<style scoped>\n",
       "    .dataframe tbody tr th:only-of-type {\n",
       "        vertical-align: middle;\n",
       "    }\n",
       "\n",
       "    .dataframe tbody tr th {\n",
       "        vertical-align: top;\n",
       "    }\n",
       "\n",
       "    .dataframe thead th {\n",
       "        text-align: right;\n",
       "    }\n",
       "</style>\n",
       "<table border=\"1\" class=\"dataframe\">\n",
       "  <thead>\n",
       "    <tr style=\"text-align: right;\">\n",
       "      <th></th>\n",
       "      <th>Coefficients</th>\n",
       "    </tr>\n",
       "    <tr>\n",
       "      <th>Features</th>\n",
       "      <th></th>\n",
       "    </tr>\n",
       "  </thead>\n",
       "  <tbody>\n",
       "    <tr>\n",
       "      <th>exter_qual</th>\n",
       "      <td>17879.8</td>\n",
       "    </tr>\n",
       "    <tr>\n",
       "      <th>overall_qual</th>\n",
       "      <td>13143.4</td>\n",
       "    </tr>\n",
       "    <tr>\n",
       "      <th>full_bath</th>\n",
       "      <td>7581.06</td>\n",
       "    </tr>\n",
       "    <tr>\n",
       "      <th>overall_cond</th>\n",
       "      <td>6037.91</td>\n",
       "    </tr>\n",
       "    <tr>\n",
       "      <th>garage_cars</th>\n",
       "      <td>2917.92</td>\n",
       "    </tr>\n",
       "    <tr>\n",
       "      <th>year_built</th>\n",
       "      <td>427.505</td>\n",
       "    </tr>\n",
       "    <tr>\n",
       "      <th>gr_liv_area</th>\n",
       "      <td>50.1959</td>\n",
       "    </tr>\n",
       "    <tr>\n",
       "      <th>garage_area</th>\n",
       "      <td>31.3244</td>\n",
       "    </tr>\n",
       "    <tr>\n",
       "      <th>total_bsmt_sf</th>\n",
       "      <td>21.6762</td>\n",
       "    </tr>\n",
       "    <tr>\n",
       "      <th>1st_flr_sf</th>\n",
       "      <td>16.3977</td>\n",
       "    </tr>\n",
       "  </tbody>\n",
       "</table>\n",
       "</div>"
      ],
      "text/plain": [
       "              Coefficients\n",
       "Features                  \n",
       "exter_qual         17879.8\n",
       "overall_qual       13143.4\n",
       "full_bath          7581.06\n",
       "overall_cond       6037.91\n",
       "garage_cars        2917.92\n",
       "year_built         427.505\n",
       "gr_liv_area        50.1959\n",
       "garage_area        31.3244\n",
       "total_bsmt_sf      21.6762\n",
       "1st_flr_sf         16.3977"
      ]
     },
     "execution_count": 42,
     "metadata": {},
     "output_type": "execute_result"
    }
   ],
   "source": [
    "ridge_df = pd.DataFrame([ridge.coef_, features], index = ['Coefficients', 'Features']).T\n",
    "ridge_df = ridge_df.set_index('Features')\n",
    "ridge_df['Coefficients'] = np.abs(ridge_df['Coefficients'])\n",
    "ridge_df = ridge_df.sort_values(by='Coefficients',ascending=False)\n",
    "ridge_df.head(10)"
   ]
  },
  {
   "cell_type": "code",
   "execution_count": 72,
   "metadata": {},
   "outputs": [
    {
     "data": {
      "image/png": "[encoded data removed]",
      "text/plain": [
       "<Figure size 432x288 with 1 Axes>"
      ]
     },
     "metadata": {
      "image/png": {
       "height": 277,
       "width": 436
      },
      "needs_background": "dark"
     },
     "output_type": "display_data"
    }
   ],
   "source": [
    "# More visualization of what features have the most impact on sale price\n",
    "plt.barh(y=ridge_df.index[:10], width=ridge_df['Coefficients'][0:10], color='#ff9973')\n",
    "plt.title('Impact on Sale Price', color='white')\n",
    "plt.xlabel('Strenth of Predictor', color='white')\n",
    "plt.ylabel('Features', color='white')\n",
    "plt.xticks(color='white')\n",
    "plt.yticks(color='white')\n",
    "plt.savefig('datasets/confidence_graph_4', transparent=True);"
   ]
  },
  {
   "cell_type": "code",
   "execution_count": 44,
   "metadata": {},
   "outputs": [
    {
     "data": {
      "text/plain": [
       "1838     20378.057826\n",
       "179     -27279.760677\n",
       "122    -155300.986318\n",
       "1179    -17594.158621\n",
       "1140      -488.046927\n",
       "Name: saleprice, dtype: float64"
      ]
     },
     "execution_count": 44,
     "metadata": {},
     "output_type": "execute_result"
    }
   ],
   "source": [
    "pred = ridge.predict(X_test)\n",
    "residuals = y_test - pred\n",
    "residuals[:5]  #look at the first fiveID"
   ]
  },
  {
   "cell_type": "code",
   "execution_count": 45,
   "metadata": {},
   "outputs": [
    {
     "data": {
      "text/plain": [
       "Text(0.5, 1.0, 'Distribution of Residuals')"
      ]
     },
     "execution_count": 45,
     "metadata": {},
     "output_type": "execute_result"
    },
    {
     "data": {
      "image/png": "[encoded data removed]",
      "text/plain": [
       "<Figure size 432x288 with 1 Axes>"
      ]
     },
     "metadata": {
      "image/png": {
       "height": 263,
       "width": 378
      },
      "needs_background": "light"
     },
     "output_type": "display_data"
    }
   ],
   "source": [
    "plt.hist(residuals);\n",
    "plt.title('Distribution of Residuals')"
   ]
  },
  {
   "cell_type": "code",
   "execution_count": 46,
   "metadata": {},
   "outputs": [
    {
     "data": {
      "text/plain": [
       "12.066810578196666"
      ]
     },
     "execution_count": 46,
     "metadata": {},
     "output_type": "execute_result"
    }
   ],
   "source": [
    "sample_prices = y_test.values[0]\n",
    "np.log(sample_prices)"
   ]
  },
  {
   "cell_type": "code",
   "execution_count": 47,
   "metadata": {},
   "outputs": [
    {
     "data": {
      "text/plain": [
       "Text(0.5, 1.0, 'Transformed Residuals')"
      ]
     },
     "execution_count": 47,
     "metadata": {},
     "output_type": "execute_result"
    },
    {
     "data": {
      "image/png": "[encoded data removed]",
      "text/plain": [
       "<Figure size 432x288 with 1 Axes>"
      ]
     },
     "metadata": {
      "image/png": {
       "height": 263,
       "width": 375
      },
      "needs_background": "light"
     },
     "output_type": "display_data"
    }
   ],
   "source": [
    "plt.hist(np.log(y_test));\n",
    "plt.title('Transformed Residuals')"
   ]
  },
  {
   "cell_type": "code",
   "execution_count": 48,
   "metadata": {},
   "outputs": [
    {
     "data": {
      "text/plain": [
       "Text(0.5, 1.0, 'Comparing Predicted Prices with Residuals')"
      ]
     },
     "execution_count": 48,
     "metadata": {},
     "output_type": "execute_result"
    },
    {
     "data": {
      "image/png": "[encoded data removed]",
      "text/plain": [
       "<Figure size 432x288 with 1 Axes>"
      ]
     },
     "metadata": {
      "image/png": {
       "height": 277,
       "width": 416
      },
      "needs_background": "light"
     },
     "output_type": "display_data"
    }
   ],
   "source": [
    "#interdcept 182000\n",
    "#slope for quality is 19500\n",
    "plt.scatter(x=pred,y=residuals)\n",
    "plt.xlabel('Predicted Home Prices')\n",
    "plt.ylabel('Residuals')\n",
    "plt.title('Comparing Predicted Prices with Residuals')"
   ]
  },
  {
   "cell_type": "markdown",
   "metadata": {},
   "source": [
    "# Now with Test data #"
   ]
  },
  {
   "cell_type": "code",
   "execution_count": 49,
   "metadata": {},
   "outputs": [
    {
     "data": {
      "text/plain": [
       "(878, 81)"
      ]
     },
     "execution_count": 49,
     "metadata": {},
     "output_type": "execute_result"
    }
   ],
   "source": [
    "s_test.shape"
   ]
  },
  {
   "cell_type": "code",
   "execution_count": 50,
   "metadata": {},
   "outputs": [
    {
     "data": {
      "text/html": [
       "<div>\n",
       "<style scoped>\n",
       "    .dataframe tbody tr th:only-of-type {\n",
       "        vertical-align: middle;\n",
       "    }\n",
       "\n",
       "    .dataframe tbody tr th {\n",
       "        vertical-align: top;\n",
       "    }\n",
       "\n",
       "    .dataframe thead th {\n",
       "        text-align: right;\n",
       "    }\n",
       "</style>\n",
       "<table border=\"1\" class=\"dataframe\">\n",
       "  <thead>\n",
       "    <tr style=\"text-align: right;\">\n",
       "      <th></th>\n",
       "      <th>overall_qual</th>\n",
       "      <th>overall_cond</th>\n",
       "      <th>1st_flr_sf</th>\n",
       "      <th>exter_qual</th>\n",
       "      <th>gr_liv_area</th>\n",
       "      <th>garage_area</th>\n",
       "      <th>garage_cars</th>\n",
       "      <th>total_bsmt_sf</th>\n",
       "      <th>year_built</th>\n",
       "      <th>full_bath</th>\n",
       "    </tr>\n",
       "  </thead>\n",
       "  <tbody>\n",
       "    <tr>\n",
       "      <th>0</th>\n",
       "      <td>6</td>\n",
       "      <td>8</td>\n",
       "      <td>908</td>\n",
       "      <td>3</td>\n",
       "      <td>1928</td>\n",
       "      <td>440</td>\n",
       "      <td>1</td>\n",
       "      <td>1020</td>\n",
       "      <td>1910</td>\n",
       "      <td>2</td>\n",
       "    </tr>\n",
       "    <tr>\n",
       "      <th>1</th>\n",
       "      <td>5</td>\n",
       "      <td>4</td>\n",
       "      <td>1967</td>\n",
       "      <td>3</td>\n",
       "      <td>1967</td>\n",
       "      <td>580</td>\n",
       "      <td>2</td>\n",
       "      <td>1967</td>\n",
       "      <td>1977</td>\n",
       "      <td>2</td>\n",
       "    </tr>\n",
       "    <tr>\n",
       "      <th>2</th>\n",
       "      <td>7</td>\n",
       "      <td>5</td>\n",
       "      <td>664</td>\n",
       "      <td>2</td>\n",
       "      <td>1496</td>\n",
       "      <td>426</td>\n",
       "      <td>2</td>\n",
       "      <td>654</td>\n",
       "      <td>2006</td>\n",
       "      <td>2</td>\n",
       "    </tr>\n",
       "    <tr>\n",
       "      <th>3</th>\n",
       "      <td>5</td>\n",
       "      <td>6</td>\n",
       "      <td>968</td>\n",
       "      <td>2</td>\n",
       "      <td>968</td>\n",
       "      <td>480</td>\n",
       "      <td>2</td>\n",
       "      <td>968</td>\n",
       "      <td>1923</td>\n",
       "      <td>1</td>\n",
       "    </tr>\n",
       "    <tr>\n",
       "      <th>4</th>\n",
       "      <td>6</td>\n",
       "      <td>5</td>\n",
       "      <td>1394</td>\n",
       "      <td>3</td>\n",
       "      <td>1394</td>\n",
       "      <td>514</td>\n",
       "      <td>2</td>\n",
       "      <td>1394</td>\n",
       "      <td>1963</td>\n",
       "      <td>1</td>\n",
       "    </tr>\n",
       "  </tbody>\n",
       "</table>\n",
       "</div>"
      ],
      "text/plain": [
       "   overall_qual  overall_cond  1st_flr_sf  exter_qual  gr_liv_area  \\\n",
       "0             6             8         908           3         1928   \n",
       "1             5             4        1967           3         1967   \n",
       "2             7             5         664           2         1496   \n",
       "3             5             6         968           2          968   \n",
       "4             6             5        1394           3         1394   \n",
       "\n",
       "   garage_area  garage_cars  total_bsmt_sf  year_built  full_bath  \n",
       "0          440            1           1020        1910          2  \n",
       "1          580            2           1967        1977          2  \n",
       "2          426            2            654        2006          2  \n",
       "3          480            2            968        1923          1  \n",
       "4          514            2           1394        1963          1  "
      ]
     },
     "execution_count": 50,
     "metadata": {},
     "output_type": "execute_result"
    }
   ],
   "source": [
    "X_test_data.head()"
   ]
  },
  {
   "cell_type": "code",
   "execution_count": 51,
   "metadata": {},
   "outputs": [
    {
     "data": {
      "text/plain": [
       "(               overall_qual  overall_cond  1st_flr_sf  exter_qual  \\\n",
       " overall_qual       1.000000     -0.122401    0.471428   -0.716261   \n",
       " overall_cond      -0.122401      1.000000   -0.171535    0.141667   \n",
       " 1st_flr_sf         0.471428     -0.171535    1.000000   -0.376592   \n",
       " exter_qual        -0.716261      0.141667   -0.376592    1.000000   \n",
       " gr_liv_area        0.576049     -0.127846    0.546694   -0.417955   \n",
       " garage_area        0.560325     -0.189795    0.469661   -0.468628   \n",
       " garage_cars        0.627462     -0.211422    0.437563   -0.520520   \n",
       " total_bsmt_sf      0.536911     -0.210064    0.773006   -0.463317   \n",
       " year_built         0.582000     -0.363553    0.276322   -0.578191   \n",
       " full_bath          0.535192     -0.202914    0.372106   -0.474577   \n",
       " \n",
       "                gr_liv_area  garage_area  garage_cars  total_bsmt_sf  \\\n",
       " overall_qual      0.576049     0.560325     0.627462       0.536911   \n",
       " overall_cond     -0.127846    -0.189795    -0.211422      -0.210064   \n",
       " 1st_flr_sf        0.546694     0.469661     0.437563       0.773006   \n",
       " exter_qual       -0.417955    -0.468628    -0.520520      -0.463317   \n",
       " gr_liv_area       1.000000     0.469054     0.494590       0.404519   \n",
       " garage_area       0.469054     1.000000     0.881078       0.474421   \n",
       " garage_cars       0.494590     0.881078     1.000000       0.446527   \n",
       " total_bsmt_sf     0.404519     0.474421     0.446527       1.000000   \n",
       " year_built        0.199715     0.462318     0.523973       0.400041   \n",
       " full_bath         0.658685     0.425774     0.500142       0.313740   \n",
       " \n",
       "                year_built  full_bath  \n",
       " overall_qual     0.582000   0.535192  \n",
       " overall_cond    -0.363553  -0.202914  \n",
       " 1st_flr_sf       0.276322   0.372106  \n",
       " exter_qual      -0.578191  -0.474577  \n",
       " gr_liv_area      0.199715   0.658685  \n",
       " garage_area      0.462318   0.425774  \n",
       " garage_cars      0.523973   0.500142  \n",
       " total_bsmt_sf    0.400041   0.313740  \n",
       " year_built       1.000000   0.442716  \n",
       " full_bath        0.442716   1.000000  ,\n",
       " 398      50138\n",
       " 1947     51689\n",
       " 1332     52000\n",
       " 1890     52500\n",
       " 679      55000\n",
       "          ...  \n",
       " 1700    392500\n",
       " 1980    394617\n",
       " 1713    395000\n",
       " 1760    395039\n",
       " 1674    398800\n",
       " Name: saleprice, Length: 1986, dtype: int64)"
      ]
     },
     "execution_count": 51,
     "metadata": {},
     "output_type": "execute_result"
    }
   ],
   "source": [
    "X_test_data.corr(),s_train['saleprice'].sort_values()"
   ]
  },
  {
   "cell_type": "code",
   "execution_count": 52,
   "metadata": {},
   "outputs": [],
   "source": [
    "test_pred = ridge.predict(X_test_data)"
   ]
  },
  {
   "cell_type": "code",
   "execution_count": 53,
   "metadata": {},
   "outputs": [
    {
     "data": {
      "text/plain": [
       "array([168654.30637497, 207155.5634627 , 191464.43066636, 130293.11640145,\n",
       "       175286.87734625, 101379.99190186, 112105.18287788, 157957.52787182,\n",
       "       211837.76406776, 166494.35742666])"
      ]
     },
     "execution_count": 53,
     "metadata": {},
     "output_type": "execute_result"
    }
   ],
   "source": [
    "test_pred[:10]"
   ]
  },
  {
   "cell_type": "code",
   "execution_count": 54,
   "metadata": {},
   "outputs": [],
   "source": [
    "s_test['saleprice'] = test_pred"
   ]
  },
  {
   "cell_type": "code",
   "execution_count": 55,
   "metadata": {},
   "outputs": [
    {
     "data": {
      "text/html": [
       "<div>\n",
       "<style scoped>\n",
       "    .dataframe tbody tr th:only-of-type {\n",
       "        vertical-align: middle;\n",
       "    }\n",
       "\n",
       "    .dataframe tbody tr th {\n",
       "        vertical-align: top;\n",
       "    }\n",
       "\n",
       "    .dataframe thead th {\n",
       "        text-align: right;\n",
       "    }\n",
       "</style>\n",
       "<table border=\"1\" class=\"dataframe\">\n",
       "  <thead>\n",
       "    <tr style=\"text-align: right;\">\n",
       "      <th></th>\n",
       "      <th>Unnamed: 0</th>\n",
       "      <th>id</th>\n",
       "      <th>pid</th>\n",
       "      <th>ms_subclass</th>\n",
       "      <th>ms_zoning</th>\n",
       "      <th>lot_frontage</th>\n",
       "      <th>lot_area</th>\n",
       "      <th>street</th>\n",
       "      <th>alley</th>\n",
       "      <th>lot_shape</th>\n",
       "      <th>...</th>\n",
       "      <th>screen_porch</th>\n",
       "      <th>pool_area</th>\n",
       "      <th>pool_qc</th>\n",
       "      <th>fence</th>\n",
       "      <th>misc_feature</th>\n",
       "      <th>misc_val</th>\n",
       "      <th>mo_sold</th>\n",
       "      <th>yr_sold</th>\n",
       "      <th>sale_type</th>\n",
       "      <th>saleprice</th>\n",
       "    </tr>\n",
       "  </thead>\n",
       "  <tbody>\n",
       "    <tr>\n",
       "      <th>0</th>\n",
       "      <td>0</td>\n",
       "      <td>2658</td>\n",
       "      <td>902301120</td>\n",
       "      <td>190</td>\n",
       "      <td>RM</td>\n",
       "      <td>69.0</td>\n",
       "      <td>9142</td>\n",
       "      <td>Pave</td>\n",
       "      <td>Grvl</td>\n",
       "      <td>1</td>\n",
       "      <td>...</td>\n",
       "      <td>0</td>\n",
       "      <td>0</td>\n",
       "      <td>NaN</td>\n",
       "      <td>NaN</td>\n",
       "      <td>NaN</td>\n",
       "      <td>0</td>\n",
       "      <td>4</td>\n",
       "      <td>2006</td>\n",
       "      <td>WD</td>\n",
       "      <td>168654.306375</td>\n",
       "    </tr>\n",
       "    <tr>\n",
       "      <th>1</th>\n",
       "      <td>1</td>\n",
       "      <td>2718</td>\n",
       "      <td>905108090</td>\n",
       "      <td>90</td>\n",
       "      <td>RL</td>\n",
       "      <td>0.0</td>\n",
       "      <td>9662</td>\n",
       "      <td>Pave</td>\n",
       "      <td>NaN</td>\n",
       "      <td>2</td>\n",
       "      <td>...</td>\n",
       "      <td>0</td>\n",
       "      <td>0</td>\n",
       "      <td>NaN</td>\n",
       "      <td>NaN</td>\n",
       "      <td>NaN</td>\n",
       "      <td>0</td>\n",
       "      <td>8</td>\n",
       "      <td>2006</td>\n",
       "      <td>WD</td>\n",
       "      <td>207155.563463</td>\n",
       "    </tr>\n",
       "    <tr>\n",
       "      <th>2</th>\n",
       "      <td>2</td>\n",
       "      <td>2414</td>\n",
       "      <td>528218130</td>\n",
       "      <td>60</td>\n",
       "      <td>RL</td>\n",
       "      <td>58.0</td>\n",
       "      <td>17104</td>\n",
       "      <td>Pave</td>\n",
       "      <td>NaN</td>\n",
       "      <td>2</td>\n",
       "      <td>...</td>\n",
       "      <td>0</td>\n",
       "      <td>0</td>\n",
       "      <td>NaN</td>\n",
       "      <td>NaN</td>\n",
       "      <td>NaN</td>\n",
       "      <td>0</td>\n",
       "      <td>9</td>\n",
       "      <td>2006</td>\n",
       "      <td>New</td>\n",
       "      <td>191464.430666</td>\n",
       "    </tr>\n",
       "    <tr>\n",
       "      <th>3</th>\n",
       "      <td>3</td>\n",
       "      <td>1989</td>\n",
       "      <td>902207150</td>\n",
       "      <td>30</td>\n",
       "      <td>RM</td>\n",
       "      <td>60.0</td>\n",
       "      <td>8520</td>\n",
       "      <td>Pave</td>\n",
       "      <td>NaN</td>\n",
       "      <td>1</td>\n",
       "      <td>...</td>\n",
       "      <td>0</td>\n",
       "      <td>0</td>\n",
       "      <td>NaN</td>\n",
       "      <td>NaN</td>\n",
       "      <td>NaN</td>\n",
       "      <td>0</td>\n",
       "      <td>7</td>\n",
       "      <td>2007</td>\n",
       "      <td>WD</td>\n",
       "      <td>130293.116401</td>\n",
       "    </tr>\n",
       "    <tr>\n",
       "      <th>4</th>\n",
       "      <td>4</td>\n",
       "      <td>625</td>\n",
       "      <td>535105100</td>\n",
       "      <td>20</td>\n",
       "      <td>RL</td>\n",
       "      <td>0.0</td>\n",
       "      <td>9500</td>\n",
       "      <td>Pave</td>\n",
       "      <td>NaN</td>\n",
       "      <td>2</td>\n",
       "      <td>...</td>\n",
       "      <td>185</td>\n",
       "      <td>0</td>\n",
       "      <td>NaN</td>\n",
       "      <td>NaN</td>\n",
       "      <td>NaN</td>\n",
       "      <td>0</td>\n",
       "      <td>7</td>\n",
       "      <td>2009</td>\n",
       "      <td>WD</td>\n",
       "      <td>175286.877346</td>\n",
       "    </tr>\n",
       "  </tbody>\n",
       "</table>\n",
       "<p>5 rows × 82 columns</p>\n",
       "</div>"
      ],
      "text/plain": [
       "   Unnamed: 0    id        pid  ms_subclass ms_zoning  lot_frontage  lot_area  \\\n",
       "0           0  2658  902301120          190        RM          69.0      9142   \n",
       "1           1  2718  905108090           90        RL           0.0      9662   \n",
       "2           2  2414  528218130           60        RL          58.0     17104   \n",
       "3           3  1989  902207150           30        RM          60.0      8520   \n",
       "4           4   625  535105100           20        RL           0.0      9500   \n",
       "\n",
       "  street alley  lot_shape  ... screen_porch pool_area  pool_qc fence  \\\n",
       "0   Pave  Grvl          1  ...            0         0      NaN   NaN   \n",
       "1   Pave   NaN          2  ...            0         0      NaN   NaN   \n",
       "2   Pave   NaN          2  ...            0         0      NaN   NaN   \n",
       "3   Pave   NaN          1  ...            0         0      NaN   NaN   \n",
       "4   Pave   NaN          2  ...          185         0      NaN   NaN   \n",
       "\n",
       "  misc_feature misc_val mo_sold yr_sold sale_type      saleprice  \n",
       "0          NaN        0       4    2006       WD   168654.306375  \n",
       "1          NaN        0       8    2006       WD   207155.563463  \n",
       "2          NaN        0       9    2006       New  191464.430666  \n",
       "3          NaN        0       7    2007       WD   130293.116401  \n",
       "4          NaN        0       7    2009       WD   175286.877346  \n",
       "\n",
       "[5 rows x 82 columns]"
      ]
     },
     "execution_count": 55,
     "metadata": {},
     "output_type": "execute_result"
    }
   ],
   "source": [
    "s_test.head()"
   ]
  },
  {
   "cell_type": "code",
   "execution_count": 56,
   "metadata": {},
   "outputs": [],
   "source": [
    "y_test_data = s_test['saleprice']"
   ]
  },
  {
   "cell_type": "code",
   "execution_count": 57,
   "metadata": {},
   "outputs": [],
   "source": [
    "# Scale test set\n",
    "X_td_scaled = sc.transform(X_test_data)\n",
    "# y_td_scaled = sc.transform(y_test_data)"
   ]
  },
  {
   "cell_type": "code",
   "execution_count": 58,
   "metadata": {},
   "outputs": [
    {
     "data": {
      "text/plain": [
       "(878, 10)"
      ]
     },
     "execution_count": 58,
     "metadata": {},
     "output_type": "execute_result"
    }
   ],
   "source": [
    "X_td_scaled.shape"
   ]
  },
  {
   "cell_type": "code",
   "execution_count": 59,
   "metadata": {},
   "outputs": [
    {
     "data": {
      "text/plain": [
       "RidgeCV(alphas=array([ 0.1,  0.2,  0.3,  0.4,  0.5,  0.6,  0.7,  0.8,  0.9,  1. ,  1.1,\n",
       "        1.2,  1.3,  1.4,  1.5,  1.6,  1.7,  1.8,  1.9,  2. ,  2.1,  2.2,\n",
       "        2.3,  2.4,  2.5,  2.6,  2.7,  2.8,  2.9,  3. ,  3.1,  3.2,  3.3,\n",
       "        3.4,  3.5,  3.6,  3.7,  3.8,  3.9,  4. ,  4.1,  4.2,  4.3,  4.4,\n",
       "        4.5,  4.6,  4.7,  4.8,  4.9,  5. ,  5.1,  5.2,  5.3,  5.4,  5.5,\n",
       "        5.6,  5.7,  5.8,  5.9,  6. ,  6.1,  6.2,  6.3,  6.4,  6.5,  6.6,\n",
       "        6.7,  6.8,  6.9,  7. ,  7.1,  7.2,  7.3,  7.4,  7.5,  7.6,  7.7,\n",
       "        7.8,  7.9,  8. ,  8.1,  8.2,  8.3,  8.4,  8.5,  8.6,  8.7,  8.8,\n",
       "        8.9,  9. ,  9.1,  9.2,  9.3,  9.4,  9.5,  9.6,  9.7,  9.8,  9.9,\n",
       "       10. ]))"
      ]
     },
     "execution_count": 59,
     "metadata": {},
     "output_type": "execute_result"
    }
   ],
   "source": [
    "ridge = RidgeCV(alphas=np.linspace(.1, 10, 100)).fit(X_td_scaled, y_test_data)\n",
    "ridge"
   ]
  },
  {
   "cell_type": "code",
   "execution_count": 77,
   "metadata": {},
   "outputs": [
    {
     "data": {
      "text/plain": [
       "0.8469678914187746"
      ]
     },
     "execution_count": 77,
     "metadata": {},
     "output_type": "execute_result"
    }
   ],
   "source": [
    "ridge_scores = cross_val_score(ridge, X_train, y_train, cv=3)\n",
    "ridge_scores.mean()"
   ]
  },
  {
   "cell_type": "code",
   "execution_count": 61,
   "metadata": {},
   "outputs": [
    {
     "data": {
      "text/plain": [
       "RidgeCV(alphas=array([ 0.1,  0.2,  0.3,  0.4,  0.5,  0.6,  0.7,  0.8,  0.9,  1. ,  1.1,\n",
       "        1.2,  1.3,  1.4,  1.5,  1.6,  1.7,  1.8,  1.9,  2. ,  2.1,  2.2,\n",
       "        2.3,  2.4,  2.5,  2.6,  2.7,  2.8,  2.9,  3. ,  3.1,  3.2,  3.3,\n",
       "        3.4,  3.5,  3.6,  3.7,  3.8,  3.9,  4. ,  4.1,  4.2,  4.3,  4.4,\n",
       "        4.5,  4.6,  4.7,  4.8,  4.9,  5. ,  5.1,  5.2,  5.3,  5.4,  5.5,\n",
       "        5.6,  5.7,  5.8,  5.9,  6. ,  6.1,  6.2,  6.3,  6.4,  6.5,  6.6,\n",
       "        6.7,  6.8,  6.9,  7. ,  7.1,  7.2,  7.3,  7.4,  7.5,  7.6,  7.7,\n",
       "        7.8,  7.9,  8. ,  8.1,  8.2,  8.3,  8.4,  8.5,  8.6,  8.7,  8.8,\n",
       "        8.9,  9. ,  9.1,  9.2,  9.3,  9.4,  9.5,  9.6,  9.7,  9.8,  9.9,\n",
       "       10. ]))"
      ]
     },
     "execution_count": 61,
     "metadata": {},
     "output_type": "execute_result"
    }
   ],
   "source": [
    "ridge.fit(X_train, y_train)"
   ]
  },
  {
   "cell_type": "code",
   "execution_count": 62,
   "metadata": {},
   "outputs": [
    {
     "data": {
      "text/plain": [
       "0.8501087808144672"
      ]
     },
     "execution_count": 62,
     "metadata": {},
     "output_type": "execute_result"
    }
   ],
   "source": [
    "ridge.score(X_train, y_train)"
   ]
  },
  {
   "cell_type": "code",
   "execution_count": 63,
   "metadata": {},
   "outputs": [
    {
     "data": {
      "text/plain": [
       "0.8204985214189768"
      ]
     },
     "execution_count": 63,
     "metadata": {},
     "output_type": "execute_result"
    }
   ],
   "source": [
    "ridge.score(X_test, y_test)"
   ]
  },
  {
   "cell_type": "code",
   "execution_count": 64,
   "metadata": {},
   "outputs": [
    {
     "data": {
      "text/plain": [
       "-256.7582192528209"
      ]
     },
     "execution_count": 64,
     "metadata": {},
     "output_type": "execute_result"
    }
   ],
   "source": [
    "ridge.score(X_td_scaled, y_test_data)"
   ]
  },
  {
   "cell_type": "code",
   "execution_count": 65,
   "metadata": {},
   "outputs": [
    {
     "data": {
      "text/plain": [
       "Index(['Unnamed: 0', 'id', 'pid', 'ms_subclass', 'ms_zoning', 'lot_frontage',\n",
       "       'lot_area', 'street', 'alley', 'lot_shape', 'land_contour', 'utilities',\n",
       "       'lot_config', 'land_slope', 'neighborhood', 'condition_1',\n",
       "       'condition_2', 'bldg_type', 'house_style', 'overall_qual',\n",
       "       'overall_cond', 'year_built', 'year_remod/add', 'roof_style',\n",
       "       'roof_matl', 'exterior_1st', 'exterior_2nd', 'mas_vnr_type',\n",
       "       'mas_vnr_area', 'exter_qual', 'exter_cond', 'foundation', 'bsmt_qual',\n",
       "       'bsmt_cond', 'bsmt_exposure', 'bsmtfin_type_1', 'bsmtfin_sf_1',\n",
       "       'bsmtfin_type_2', 'bsmtfin_sf_2', 'bsmt_unf_sf', 'total_bsmt_sf',\n",
       "       'heating', 'heating_qc', 'central_air', 'electrical', '1st_flr_sf',\n",
       "       '2nd_flr_sf', 'low_qual_fin_sf', 'gr_liv_area', 'bsmt_full_bath',\n",
       "       'bsmt_half_bath', 'full_bath', 'half_bath', 'bedroom_abvgr',\n",
       "       'kitchen_abvgr', 'kitchen_qual', 'totrms_abvgrd', 'functional',\n",
       "       'fireplaces', 'fireplace_qu', 'garage_type', 'garage_yr_blt',\n",
       "       'garage_finish', 'garage_cars', 'garage_area', 'garage_qual',\n",
       "       'garage_cond', 'paved_drive', 'wood_deck_sf', 'open_porch_sf',\n",
       "       'enclosed_porch', '3ssn_porch', 'screen_porch', 'pool_area', 'pool_qc',\n",
       "       'fence', 'misc_feature', 'misc_val', 'mo_sold', 'yr_sold', 'sale_type',\n",
       "       'saleprice'],\n",
       "      dtype='object')"
      ]
     },
     "execution_count": 65,
     "metadata": {},
     "output_type": "execute_result"
    }
   ],
   "source": [
    "s_test.columns"
   ]
  },
  {
   "cell_type": "code",
   "execution_count": 66,
   "metadata": {},
   "outputs": [],
   "source": [
    "s_test.rename(columns={'id': 'ID', 'saleprice': 'SalePrice'}, errors=\"raise\", inplace=True)"
   ]
  },
  {
   "cell_type": "code",
   "execution_count": 67,
   "metadata": {},
   "outputs": [],
   "source": [
    "submission = s_test[['ID', 'SalePrice']]"
   ]
  },
  {
   "cell_type": "code",
   "execution_count": 68,
   "metadata": {},
   "outputs": [],
   "source": [
    "submission.to_csv('datasets/submission_4.csv', index=False)"
   ]
  },
  {
   "cell_type": "code",
   "execution_count": null,
   "metadata": {},
   "outputs": [],
   "source": []
  },
  {
   "cell_type": "code",
   "execution_count": null,
   "metadata": {},
   "outputs": [],
   "source": []
  },
  {
   "cell_type": "code",
   "execution_count": null,
   "metadata": {},
   "outputs": [],
   "source": []
  }
 ],
 "metadata": {
  "kernelspec": {
   "display_name": "Python 3",
   "language": "python",
   "name": "python3"
  },
  "language_info": {
   "codemirror_mode": {
    "name": "ipython",
    "version": 3
   },
   "file_extension": ".py",
   "mimetype": "text/x-python",
   "name": "python",
   "nbconvert_exporter": "python",
   "pygments_lexer": "ipython3",
   "version": "3.8.5"
  }
 },
 "nbformat": 4,
 "nbformat_minor": 4
}
