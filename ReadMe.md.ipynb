{
 "cells": [
  {
   "cell_type": "markdown",
   "metadata": {},
   "source": [
    "# Ames Housing Data and Kaggle Challenge"
   ]
  },
  {
   "cell_type": "markdown",
   "metadata": {},
   "source": [
    "## Problem Statement ##"
   ]
  },
  {
   "cell_type": "markdown",
   "metadata": {},
   "source": [
    "The Ames housing data set holds a large amount of data. I aim to find a sufficiently effective model that strips down the data set to only what is needed to predict the value of a home. This takes the burden off of the data scientist workign with the model and the machines running the model. Ultimately saving time and cost. "
   ]
  },
  {
   "cell_type": "markdown",
   "metadata": {},
   "source": [
    "## Data Description and Dictionary ##"
   ]
  },
  {
   "cell_type": "markdown",
   "metadata": {},
   "source": [
    "Data set contains information from the Ames Assessor's Office used in computing assessed values for individual residential properties sold in Ames, IA from 2006 to 2010"
   ]
  },
  {
   "cell_type": "markdown",
   "metadata": {},
   "source": [
    "### Data Sets Used"
   ]
  },
  {
   "cell_type": "markdown",
   "metadata": {},
   "source": [
    "#### Data sets are located in  the /datasets/ directory"
   ]
  },
  {
   "cell_type": "markdown",
   "metadata": {},
   "source": [
    "|Data Set |Description   |\n",
    "|:---|:---|\n",
    "|'train.csv'  |Ames housing training data set   |\n",
    "|'test.csv'   |Ames housing test data set   |\n",
    "|'clean_train.csv' |Cleaned Ames housing training data set   |\n",
    "|'clean_test.csv'   |Cleaned Ames housing test data set   |\n"
   ]
  },
  {
   "cell_type": "markdown",
   "metadata": {},
   "source": [
    "### Data Dictionary"
   ]
  },
  {
   "cell_type": "markdown",
   "metadata": {},
   "source": [
    "|Feature   |Description   |Key   |Value   |\n",
    "|:---:|:---|:---:|:---|\n",
    "|'1st_flr_sf'   |First Floor square feet   |   |   |\n",
    "|'bsmt_cond'   |Evaluates the general condition of the basement   |   |   |\n",
    "|   |   |1   |Excellent   |\n",
    "|   |   |2   |Good   |\n",
    "|   |   |3   |Typical - slight dampness allowed   |\n",
    "|   |   |4   |Fair - dampness or some cracking or settling   |\n",
    "|   |   |5   |Poor - Severe cracking, settling, or wetness   |\n",
    "|   |   |6   |No Basement   |\n",
    "|'bsmt_qual'   |Evaluates the height of the basement   |   |   |\n",
    "|   |- Excellent (100+ inches)    |1   |Excellent (100+ inches)   |\n",
    "|   |   |2   |Good (90-99 inches)   |\n",
    "|   |   |3   |Typical (80-89 inches)   |\n",
    "|   |   |4   |Fair (70-79 inches)   |\n",
    "|   |   |5   |Poor (<70 inches   |\n",
    "|   |   |6   |No Basement   |\n",
    "|'exter_cond'   |Evaluates the present condition of the material on the exterior   |   |   |\n",
    "|   |   |1   |Excellent   |\n",
    "|   |   |2   |Good   |\n",
    "|   |   |3   |Average/Typical   |\n",
    "|   |   |4   |Fair   |\n",
    "|   |   |5   |Poor   |\n",
    "|'exter_qual'   |Evaluates the quality of the material on the exterior    |   |   |\n",
    "|'full_bath'   |Full bathrooms above grade   |   |   |\n",
    "|'garage_area'   |Size of garage in square feet   |   |   |\n",
    "|'garage_cars'   |Size of garage in car capacity   |   |   |\n",
    "|'garage_cond'   |Garage condition   |   |   |\n",
    "|'gr_liv_area'   |Above grade (ground) living area square feet   |   |   |\n",
    "|'garage_qual'   |Garage quality   |   |   |\n",
    "|'id'   |Parcel ID   |   |   |\n",
    "|'kitchen_qual'   |Kitchen quality   |   |   |\n",
    "|'lot_area'   |Lot size in square feet   |   |   |\n",
    "|'lot_config'   |Lot configuration   |   |   |\n",
    "|   |   |1   |Inside lot   |\n",
    "|   |   |2   |Corner lot   |\n",
    "|   |   |3   |Cul-de-sac   |\n",
    "|   |   |4   |Frontage on 2 sides of property   |\n",
    "|   |   |5   |Frontage on 3 sides of property   |\n",
    "|'lot_frontage   |Linear feet of street connected to property   |   |   |\n",
    "|'lot_shape'   |General shape of property   |   |   |\n",
    "|   |   |1   |Regular   |\n",
    "|   |   |2   |Slightly irregular   |\n",
    "|   |   |3   |Moderately Irregular   |\n",
    "|   |   |4   |Irregular   |\n",
    "|'overall_cond'   |Rates the overall condition of the house   |   |   |\n",
    "|   |   |10   |Very Excellent   |\n",
    "|   |   |9   |Excellent   |\n",
    "|   |   |8   |Very Good   |\n",
    "|   |   |7   |Good   |\n",
    "|   |   |6   |Above Average\t  |\n",
    "|   |   |5   |Average   |\n",
    "|   |   |4   |Below Average  |\n",
    "|   |   |3   |Fair   |\n",
    "|   |   |2   |Poor   |\n",
    "|   |   |1   |Very Poor   |\n",
    "|'overall_qual'   |Rates the overall material and finish of the house   |   |   |\n",
    "|   |   |10   |Very Excellent   |\n",
    "|   |   |9   |Excellent   |\n",
    "|   |   |8   |Very Good   |\n",
    "|   |   |7   |Good   |\n",
    "|   |   |6   |Above Average  |\n",
    "|   |   |5   |Average   |\n",
    "|   |   |4   |Below Average   |\n",
    "|   |   |3   |Fair   |\n",
    "|   |   |2   |Poor   |\n",
    "|   |   |1   |Very Poor   |\n",
    "|'saleprice'   |Sale price $$   |   |   |\n",
    "|'total_bsmt_sf'   |Total square feet of basement area   |   |   |\n",
    "|'year_built'   |Original construction date   |   |   |\n"
   ]
  },
  {
   "cell_type": "markdown",
   "metadata": {},
   "source": [
    "# Conclusion and Recommendations #"
   ]
  },
  {
   "cell_type": "markdown",
   "metadata": {},
   "source": []
  }
 ],
 "metadata": {
  "kernelspec": {
   "display_name": "Python 3",
   "language": "python",
   "name": "python3"
  },
  "language_info": {
   "codemirror_mode": {
    "name": "ipython",
    "version": 3
   },
   "file_extension": ".py",
   "mimetype": "text/x-python",
   "name": "python",
   "nbconvert_exporter": "python",
   "pygments_lexer": "ipython3",
   "version": "3.8.5"
  }
 },
 "nbformat": 4,
 "nbformat_minor": 4
}
