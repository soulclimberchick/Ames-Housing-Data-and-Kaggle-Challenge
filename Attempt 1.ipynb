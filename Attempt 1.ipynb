{
 "cells": [
  {
   "cell_type": "markdown",
   "metadata": {},
   "source": [
    "# Problem Statement"
   ]
  },
  {
   "cell_type": "markdown",
   "metadata": {},
   "source": [
    "Input problem statement here \n",
    "\n",
    "DSIR-1116 Ames Housing Regression Challenge"
   ]
  },
  {
   "cell_type": "markdown",
   "metadata": {},
   "source": [
    "### Contents:\n",
    "- [Background](#Background)\n",
    "- [Data Import & Cleaning](#Data-Import-and-Cleaning)\n",
    "- [Exploratory Data Analysis](#Exploratory-Data-Analysis)\n",
    "- [Data Visualization](#Visualize-the-Data)\n",
    "- [Conclusions and Recommendations](#Conclusions-and-Recommendations)"
   ]
  },
  {
   "cell_type": "markdown",
   "metadata": {},
   "source": [
    "### Background"
   ]
  },
  {
   "cell_type": "markdown",
   "metadata": {},
   "source": [
    "Kaggle leaderboard standings will be determined by **root mean squared error** (RMSE)."
   ]
  },
  {
   "cell_type": "code",
   "execution_count": 1,
   "metadata": {},
   "outputs": [],
   "source": [
    "# Imports\n",
    "import numpy as np\n",
    "import pandas as pd\n",
    "import matplotlib.pyplot as plt\n",
    "import seaborn as sns\n",
    "import datetime as dt\n",
    "from sklearn.linear_model import LinearRegression\n",
    "from sklearn.model_selection import train_test_split, cross_val_score, GridSearchCV\n",
    "from sklearn.neighbors import KNeighborsClassifier\n",
    "from sklearn.preprocessing import StandardScaler, PolynomialFeatures\n",
    "import statsmodels.api as sm\n",
    "import sklearn.metrics as metrics"
   ]
  },
  {
   "cell_type": "markdown",
   "metadata": {},
   "source": [
    "### Data Sets"
   ]
  },
  {
   "cell_type": "code",
   "execution_count": 2,
   "metadata": {},
   "outputs": [],
   "source": [
    "s_train = pd.read_csv('datasets/train.csv')\n",
    "s_test = pd.read_csv('datasets/test.csv')"
   ]
  },
  {
   "cell_type": "markdown",
   "metadata": {},
   "source": [
    "### Functions"
   ]
  },
  {
   "cell_type": "code",
   "execution_count": 3,
   "metadata": {},
   "outputs": [],
   "source": [
    "def clean_header(df):\n",
    "    \n",
    "    '''This function removes wierd characters and spaces from columns and keeps everything lowercase'''\n",
    "    \n",
    "    df.columns = df.columns.str.strip().str.lower().str.replace(' ', '_').str.replace('(', '').str.replace(')','')"
   ]
  },
  {
   "cell_type": "markdown",
   "metadata": {},
   "source": [
    "### Exploratory Data Analysis (EDA)"
   ]
  },
  {
   "cell_type": "code",
   "execution_count": 4,
   "metadata": {},
   "outputs": [
    {
     "data": {
      "text/html": [
       "<div>\n",
       "<style scoped>\n",
       "    .dataframe tbody tr th:only-of-type {\n",
       "        vertical-align: middle;\n",
       "    }\n",
       "\n",
       "    .dataframe tbody tr th {\n",
       "        vertical-align: top;\n",
       "    }\n",
       "\n",
       "    .dataframe thead th {\n",
       "        text-align: right;\n",
       "    }\n",
       "</style>\n",
       "<table border=\"1\" class=\"dataframe\">\n",
       "  <thead>\n",
       "    <tr style=\"text-align: right;\">\n",
       "      <th></th>\n",
       "      <th>Id</th>\n",
       "      <th>PID</th>\n",
       "      <th>MS SubClass</th>\n",
       "      <th>MS Zoning</th>\n",
       "      <th>Lot Frontage</th>\n",
       "      <th>Lot Area</th>\n",
       "      <th>Street</th>\n",
       "      <th>Alley</th>\n",
       "      <th>Lot Shape</th>\n",
       "      <th>Land Contour</th>\n",
       "      <th>...</th>\n",
       "      <th>Screen Porch</th>\n",
       "      <th>Pool Area</th>\n",
       "      <th>Pool QC</th>\n",
       "      <th>Fence</th>\n",
       "      <th>Misc Feature</th>\n",
       "      <th>Misc Val</th>\n",
       "      <th>Mo Sold</th>\n",
       "      <th>Yr Sold</th>\n",
       "      <th>Sale Type</th>\n",
       "      <th>SalePrice</th>\n",
       "    </tr>\n",
       "  </thead>\n",
       "  <tbody>\n",
       "    <tr>\n",
       "      <th>0</th>\n",
       "      <td>109</td>\n",
       "      <td>533352170</td>\n",
       "      <td>60</td>\n",
       "      <td>RL</td>\n",
       "      <td>NaN</td>\n",
       "      <td>13517</td>\n",
       "      <td>Pave</td>\n",
       "      <td>NaN</td>\n",
       "      <td>IR1</td>\n",
       "      <td>Lvl</td>\n",
       "      <td>...</td>\n",
       "      <td>0</td>\n",
       "      <td>0</td>\n",
       "      <td>NaN</td>\n",
       "      <td>NaN</td>\n",
       "      <td>NaN</td>\n",
       "      <td>0</td>\n",
       "      <td>3</td>\n",
       "      <td>2010</td>\n",
       "      <td>WD</td>\n",
       "      <td>130500</td>\n",
       "    </tr>\n",
       "    <tr>\n",
       "      <th>1</th>\n",
       "      <td>544</td>\n",
       "      <td>531379050</td>\n",
       "      <td>60</td>\n",
       "      <td>RL</td>\n",
       "      <td>43.0</td>\n",
       "      <td>11492</td>\n",
       "      <td>Pave</td>\n",
       "      <td>NaN</td>\n",
       "      <td>IR1</td>\n",
       "      <td>Lvl</td>\n",
       "      <td>...</td>\n",
       "      <td>0</td>\n",
       "      <td>0</td>\n",
       "      <td>NaN</td>\n",
       "      <td>NaN</td>\n",
       "      <td>NaN</td>\n",
       "      <td>0</td>\n",
       "      <td>4</td>\n",
       "      <td>2009</td>\n",
       "      <td>WD</td>\n",
       "      <td>220000</td>\n",
       "    </tr>\n",
       "    <tr>\n",
       "      <th>2</th>\n",
       "      <td>153</td>\n",
       "      <td>535304180</td>\n",
       "      <td>20</td>\n",
       "      <td>RL</td>\n",
       "      <td>68.0</td>\n",
       "      <td>7922</td>\n",
       "      <td>Pave</td>\n",
       "      <td>NaN</td>\n",
       "      <td>Reg</td>\n",
       "      <td>Lvl</td>\n",
       "      <td>...</td>\n",
       "      <td>0</td>\n",
       "      <td>0</td>\n",
       "      <td>NaN</td>\n",
       "      <td>NaN</td>\n",
       "      <td>NaN</td>\n",
       "      <td>0</td>\n",
       "      <td>1</td>\n",
       "      <td>2010</td>\n",
       "      <td>WD</td>\n",
       "      <td>109000</td>\n",
       "    </tr>\n",
       "    <tr>\n",
       "      <th>3</th>\n",
       "      <td>318</td>\n",
       "      <td>916386060</td>\n",
       "      <td>60</td>\n",
       "      <td>RL</td>\n",
       "      <td>73.0</td>\n",
       "      <td>9802</td>\n",
       "      <td>Pave</td>\n",
       "      <td>NaN</td>\n",
       "      <td>Reg</td>\n",
       "      <td>Lvl</td>\n",
       "      <td>...</td>\n",
       "      <td>0</td>\n",
       "      <td>0</td>\n",
       "      <td>NaN</td>\n",
       "      <td>NaN</td>\n",
       "      <td>NaN</td>\n",
       "      <td>0</td>\n",
       "      <td>4</td>\n",
       "      <td>2010</td>\n",
       "      <td>WD</td>\n",
       "      <td>174000</td>\n",
       "    </tr>\n",
       "    <tr>\n",
       "      <th>4</th>\n",
       "      <td>255</td>\n",
       "      <td>906425045</td>\n",
       "      <td>50</td>\n",
       "      <td>RL</td>\n",
       "      <td>82.0</td>\n",
       "      <td>14235</td>\n",
       "      <td>Pave</td>\n",
       "      <td>NaN</td>\n",
       "      <td>IR1</td>\n",
       "      <td>Lvl</td>\n",
       "      <td>...</td>\n",
       "      <td>0</td>\n",
       "      <td>0</td>\n",
       "      <td>NaN</td>\n",
       "      <td>NaN</td>\n",
       "      <td>NaN</td>\n",
       "      <td>0</td>\n",
       "      <td>3</td>\n",
       "      <td>2010</td>\n",
       "      <td>WD</td>\n",
       "      <td>138500</td>\n",
       "    </tr>\n",
       "  </tbody>\n",
       "</table>\n",
       "<p>5 rows × 81 columns</p>\n",
       "</div>"
      ],
      "text/plain": [
       "    Id        PID  MS SubClass MS Zoning  Lot Frontage  Lot Area Street Alley  \\\n",
       "0  109  533352170           60        RL           NaN     13517   Pave   NaN   \n",
       "1  544  531379050           60        RL          43.0     11492   Pave   NaN   \n",
       "2  153  535304180           20        RL          68.0      7922   Pave   NaN   \n",
       "3  318  916386060           60        RL          73.0      9802   Pave   NaN   \n",
       "4  255  906425045           50        RL          82.0     14235   Pave   NaN   \n",
       "\n",
       "  Lot Shape Land Contour  ... Screen Porch Pool Area Pool QC Fence  \\\n",
       "0       IR1          Lvl  ...            0         0     NaN   NaN   \n",
       "1       IR1          Lvl  ...            0         0     NaN   NaN   \n",
       "2       Reg          Lvl  ...            0         0     NaN   NaN   \n",
       "3       Reg          Lvl  ...            0         0     NaN   NaN   \n",
       "4       IR1          Lvl  ...            0         0     NaN   NaN   \n",
       "\n",
       "  Misc Feature Misc Val Mo Sold Yr Sold  Sale Type  SalePrice  \n",
       "0          NaN        0       3    2010        WD      130500  \n",
       "1          NaN        0       4    2009        WD      220000  \n",
       "2          NaN        0       1    2010        WD      109000  \n",
       "3          NaN        0       4    2010        WD      174000  \n",
       "4          NaN        0       3    2010        WD      138500  \n",
       "\n",
       "[5 rows x 81 columns]"
      ]
     },
     "execution_count": 4,
     "metadata": {},
     "output_type": "execute_result"
    }
   ],
   "source": [
    "s_train.head()"
   ]
  },
  {
   "cell_type": "code",
   "execution_count": 5,
   "metadata": {},
   "outputs": [
    {
     "data": {
      "text/plain": [
       "Index(['Id', 'PID', 'MS SubClass', 'MS Zoning', 'Lot Frontage', 'Lot Area',\n",
       "       'Street', 'Alley', 'Lot Shape', 'Land Contour', 'Utilities',\n",
       "       'Lot Config', 'Land Slope', 'Neighborhood', 'Condition 1',\n",
       "       'Condition 2', 'Bldg Type', 'House Style', 'Overall Qual',\n",
       "       'Overall Cond', 'Year Built', 'Year Remod/Add', 'Roof Style',\n",
       "       'Roof Matl', 'Exterior 1st', 'Exterior 2nd', 'Mas Vnr Type',\n",
       "       'Mas Vnr Area', 'Exter Qual', 'Exter Cond', 'Foundation', 'Bsmt Qual',\n",
       "       'Bsmt Cond', 'Bsmt Exposure', 'BsmtFin Type 1', 'BsmtFin SF 1',\n",
       "       'BsmtFin Type 2', 'BsmtFin SF 2', 'Bsmt Unf SF', 'Total Bsmt SF',\n",
       "       'Heating', 'Heating QC', 'Central Air', 'Electrical', '1st Flr SF',\n",
       "       '2nd Flr SF', 'Low Qual Fin SF', 'Gr Liv Area', 'Bsmt Full Bath',\n",
       "       'Bsmt Half Bath', 'Full Bath', 'Half Bath', 'Bedroom AbvGr',\n",
       "       'Kitchen AbvGr', 'Kitchen Qual', 'TotRms AbvGrd', 'Functional',\n",
       "       'Fireplaces', 'Fireplace Qu', 'Garage Type', 'Garage Yr Blt',\n",
       "       'Garage Finish', 'Garage Cars', 'Garage Area', 'Garage Qual',\n",
       "       'Garage Cond', 'Paved Drive', 'Wood Deck SF', 'Open Porch SF',\n",
       "       'Enclosed Porch', '3Ssn Porch', 'Screen Porch', 'Pool Area', 'Pool QC',\n",
       "       'Fence', 'Misc Feature', 'Misc Val', 'Mo Sold', 'Yr Sold', 'Sale Type',\n",
       "       'SalePrice'],\n",
       "      dtype='object')"
      ]
     },
     "execution_count": 5,
     "metadata": {},
     "output_type": "execute_result"
    }
   ],
   "source": [
    "s_train.columns"
   ]
  },
  {
   "cell_type": "code",
   "execution_count": 66,
   "metadata": {},
   "outputs": [
    {
     "data": {
      "text/html": [
       "<div>\n",
       "<style scoped>\n",
       "    .dataframe tbody tr th:only-of-type {\n",
       "        vertical-align: middle;\n",
       "    }\n",
       "\n",
       "    .dataframe tbody tr th {\n",
       "        vertical-align: top;\n",
       "    }\n",
       "\n",
       "    .dataframe thead th {\n",
       "        text-align: right;\n",
       "    }\n",
       "</style>\n",
       "<table border=\"1\" class=\"dataframe\">\n",
       "  <thead>\n",
       "    <tr style=\"text-align: right;\">\n",
       "      <th></th>\n",
       "      <th>id</th>\n",
       "      <th>pid</th>\n",
       "      <th>ms_subclass</th>\n",
       "      <th>ms_zoning</th>\n",
       "      <th>lot_frontage</th>\n",
       "      <th>lot_area</th>\n",
       "      <th>street</th>\n",
       "      <th>alley</th>\n",
       "      <th>lot_shape</th>\n",
       "      <th>land_contour</th>\n",
       "      <th>...</th>\n",
       "      <th>screen_porch</th>\n",
       "      <th>pool_area</th>\n",
       "      <th>pool_qc</th>\n",
       "      <th>fence</th>\n",
       "      <th>misc_feature</th>\n",
       "      <th>misc_val</th>\n",
       "      <th>mo_sold</th>\n",
       "      <th>yr_sold</th>\n",
       "      <th>sale_type</th>\n",
       "      <th>saleprice</th>\n",
       "    </tr>\n",
       "  </thead>\n",
       "  <tbody>\n",
       "    <tr>\n",
       "      <th>0</th>\n",
       "      <td>109</td>\n",
       "      <td>533352170</td>\n",
       "      <td>60</td>\n",
       "      <td>RL</td>\n",
       "      <td>0.0</td>\n",
       "      <td>13517</td>\n",
       "      <td>Pave</td>\n",
       "      <td>0</td>\n",
       "      <td>IR1</td>\n",
       "      <td>Lvl</td>\n",
       "      <td>...</td>\n",
       "      <td>0</td>\n",
       "      <td>0</td>\n",
       "      <td>0</td>\n",
       "      <td>0</td>\n",
       "      <td>0</td>\n",
       "      <td>0</td>\n",
       "      <td>3</td>\n",
       "      <td>2010</td>\n",
       "      <td>WD</td>\n",
       "      <td>130500</td>\n",
       "    </tr>\n",
       "    <tr>\n",
       "      <th>1</th>\n",
       "      <td>544</td>\n",
       "      <td>531379050</td>\n",
       "      <td>60</td>\n",
       "      <td>RL</td>\n",
       "      <td>43.0</td>\n",
       "      <td>11492</td>\n",
       "      <td>Pave</td>\n",
       "      <td>0</td>\n",
       "      <td>IR1</td>\n",
       "      <td>Lvl</td>\n",
       "      <td>...</td>\n",
       "      <td>0</td>\n",
       "      <td>0</td>\n",
       "      <td>0</td>\n",
       "      <td>0</td>\n",
       "      <td>0</td>\n",
       "      <td>0</td>\n",
       "      <td>4</td>\n",
       "      <td>2009</td>\n",
       "      <td>WD</td>\n",
       "      <td>220000</td>\n",
       "    </tr>\n",
       "    <tr>\n",
       "      <th>2</th>\n",
       "      <td>153</td>\n",
       "      <td>535304180</td>\n",
       "      <td>20</td>\n",
       "      <td>RL</td>\n",
       "      <td>68.0</td>\n",
       "      <td>7922</td>\n",
       "      <td>Pave</td>\n",
       "      <td>0</td>\n",
       "      <td>Reg</td>\n",
       "      <td>Lvl</td>\n",
       "      <td>...</td>\n",
       "      <td>0</td>\n",
       "      <td>0</td>\n",
       "      <td>0</td>\n",
       "      <td>0</td>\n",
       "      <td>0</td>\n",
       "      <td>0</td>\n",
       "      <td>1</td>\n",
       "      <td>2010</td>\n",
       "      <td>WD</td>\n",
       "      <td>109000</td>\n",
       "    </tr>\n",
       "    <tr>\n",
       "      <th>3</th>\n",
       "      <td>318</td>\n",
       "      <td>916386060</td>\n",
       "      <td>60</td>\n",
       "      <td>RL</td>\n",
       "      <td>73.0</td>\n",
       "      <td>9802</td>\n",
       "      <td>Pave</td>\n",
       "      <td>0</td>\n",
       "      <td>Reg</td>\n",
       "      <td>Lvl</td>\n",
       "      <td>...</td>\n",
       "      <td>0</td>\n",
       "      <td>0</td>\n",
       "      <td>0</td>\n",
       "      <td>0</td>\n",
       "      <td>0</td>\n",
       "      <td>0</td>\n",
       "      <td>4</td>\n",
       "      <td>2010</td>\n",
       "      <td>WD</td>\n",
       "      <td>174000</td>\n",
       "    </tr>\n",
       "    <tr>\n",
       "      <th>4</th>\n",
       "      <td>255</td>\n",
       "      <td>906425045</td>\n",
       "      <td>50</td>\n",
       "      <td>RL</td>\n",
       "      <td>82.0</td>\n",
       "      <td>14235</td>\n",
       "      <td>Pave</td>\n",
       "      <td>0</td>\n",
       "      <td>IR1</td>\n",
       "      <td>Lvl</td>\n",
       "      <td>...</td>\n",
       "      <td>0</td>\n",
       "      <td>0</td>\n",
       "      <td>0</td>\n",
       "      <td>0</td>\n",
       "      <td>0</td>\n",
       "      <td>0</td>\n",
       "      <td>3</td>\n",
       "      <td>2010</td>\n",
       "      <td>WD</td>\n",
       "      <td>138500</td>\n",
       "    </tr>\n",
       "  </tbody>\n",
       "</table>\n",
       "<p>5 rows × 81 columns</p>\n",
       "</div>"
      ],
      "text/plain": [
       "    id        pid  ms_subclass ms_zoning  lot_frontage  lot_area street alley  \\\n",
       "0  109  533352170           60        RL           0.0     13517   Pave     0   \n",
       "1  544  531379050           60        RL          43.0     11492   Pave     0   \n",
       "2  153  535304180           20        RL          68.0      7922   Pave     0   \n",
       "3  318  916386060           60        RL          73.0      9802   Pave     0   \n",
       "4  255  906425045           50        RL          82.0     14235   Pave     0   \n",
       "\n",
       "  lot_shape land_contour  ... screen_porch pool_area pool_qc fence  \\\n",
       "0       IR1          Lvl  ...            0         0       0     0   \n",
       "1       IR1          Lvl  ...            0         0       0     0   \n",
       "2       Reg          Lvl  ...            0         0       0     0   \n",
       "3       Reg          Lvl  ...            0         0       0     0   \n",
       "4       IR1          Lvl  ...            0         0       0     0   \n",
       "\n",
       "  misc_feature misc_val mo_sold yr_sold  sale_type  saleprice  \n",
       "0            0        0       3    2010        WD      130500  \n",
       "1            0        0       4    2009        WD      220000  \n",
       "2            0        0       1    2010        WD      109000  \n",
       "3            0        0       4    2010        WD      174000  \n",
       "4            0        0       3    2010        WD      138500  \n",
       "\n",
       "[5 rows x 81 columns]"
      ]
     },
     "execution_count": 66,
     "metadata": {},
     "output_type": "execute_result"
    }
   ],
   "source": [
    "# clean header script\n",
    "clean_header(s_train)\n",
    "clean_header(s_test)\n",
    "s_train.head()"
   ]
  },
  {
   "cell_type": "code",
   "execution_count": 69,
   "metadata": {},
   "outputs": [
    {
     "data": {
      "text/html": [
       "<div>\n",
       "<style scoped>\n",
       "    .dataframe tbody tr th:only-of-type {\n",
       "        vertical-align: middle;\n",
       "    }\n",
       "\n",
       "    .dataframe tbody tr th {\n",
       "        vertical-align: top;\n",
       "    }\n",
       "\n",
       "    .dataframe thead th {\n",
       "        text-align: right;\n",
       "    }\n",
       "</style>\n",
       "<table border=\"1\" class=\"dataframe\">\n",
       "  <thead>\n",
       "    <tr style=\"text-align: right;\">\n",
       "      <th></th>\n",
       "      <th>id</th>\n",
       "      <th>pid</th>\n",
       "      <th>ms_subclass</th>\n",
       "      <th>ms_zoning</th>\n",
       "      <th>lot_frontage</th>\n",
       "      <th>lot_area</th>\n",
       "      <th>street</th>\n",
       "      <th>alley</th>\n",
       "      <th>lot_shape</th>\n",
       "      <th>land_contour</th>\n",
       "      <th>...</th>\n",
       "      <th>screen_porch</th>\n",
       "      <th>pool_area</th>\n",
       "      <th>pool_qc</th>\n",
       "      <th>fence</th>\n",
       "      <th>misc_feature</th>\n",
       "      <th>misc_val</th>\n",
       "      <th>mo_sold</th>\n",
       "      <th>yr_sold</th>\n",
       "      <th>sale_type</th>\n",
       "      <th>saleprice</th>\n",
       "    </tr>\n",
       "  </thead>\n",
       "  <tbody>\n",
       "    <tr>\n",
       "      <th>0</th>\n",
       "      <td>2658</td>\n",
       "      <td>902301120</td>\n",
       "      <td>190</td>\n",
       "      <td>RM</td>\n",
       "      <td>69.0</td>\n",
       "      <td>9142</td>\n",
       "      <td>Pave</td>\n",
       "      <td>Grvl</td>\n",
       "      <td>Reg</td>\n",
       "      <td>Lvl</td>\n",
       "      <td>...</td>\n",
       "      <td>0</td>\n",
       "      <td>0</td>\n",
       "      <td>NaN</td>\n",
       "      <td>NaN</td>\n",
       "      <td>NaN</td>\n",
       "      <td>0</td>\n",
       "      <td>4</td>\n",
       "      <td>2006</td>\n",
       "      <td>WD</td>\n",
       "      <td>181469.701609</td>\n",
       "    </tr>\n",
       "    <tr>\n",
       "      <th>1</th>\n",
       "      <td>2718</td>\n",
       "      <td>905108090</td>\n",
       "      <td>90</td>\n",
       "      <td>RL</td>\n",
       "      <td>NaN</td>\n",
       "      <td>9662</td>\n",
       "      <td>Pave</td>\n",
       "      <td>NaN</td>\n",
       "      <td>IR1</td>\n",
       "      <td>Lvl</td>\n",
       "      <td>...</td>\n",
       "      <td>0</td>\n",
       "      <td>0</td>\n",
       "      <td>NaN</td>\n",
       "      <td>NaN</td>\n",
       "      <td>NaN</td>\n",
       "      <td>0</td>\n",
       "      <td>8</td>\n",
       "      <td>2006</td>\n",
       "      <td>WD</td>\n",
       "      <td>181469.701609</td>\n",
       "    </tr>\n",
       "    <tr>\n",
       "      <th>2</th>\n",
       "      <td>2414</td>\n",
       "      <td>528218130</td>\n",
       "      <td>60</td>\n",
       "      <td>RL</td>\n",
       "      <td>58.0</td>\n",
       "      <td>17104</td>\n",
       "      <td>Pave</td>\n",
       "      <td>NaN</td>\n",
       "      <td>IR1</td>\n",
       "      <td>Lvl</td>\n",
       "      <td>...</td>\n",
       "      <td>0</td>\n",
       "      <td>0</td>\n",
       "      <td>NaN</td>\n",
       "      <td>NaN</td>\n",
       "      <td>NaN</td>\n",
       "      <td>0</td>\n",
       "      <td>9</td>\n",
       "      <td>2006</td>\n",
       "      <td>New</td>\n",
       "      <td>181469.701609</td>\n",
       "    </tr>\n",
       "    <tr>\n",
       "      <th>3</th>\n",
       "      <td>1989</td>\n",
       "      <td>902207150</td>\n",
       "      <td>30</td>\n",
       "      <td>RM</td>\n",
       "      <td>60.0</td>\n",
       "      <td>8520</td>\n",
       "      <td>Pave</td>\n",
       "      <td>NaN</td>\n",
       "      <td>Reg</td>\n",
       "      <td>Lvl</td>\n",
       "      <td>...</td>\n",
       "      <td>0</td>\n",
       "      <td>0</td>\n",
       "      <td>NaN</td>\n",
       "      <td>NaN</td>\n",
       "      <td>NaN</td>\n",
       "      <td>0</td>\n",
       "      <td>7</td>\n",
       "      <td>2007</td>\n",
       "      <td>WD</td>\n",
       "      <td>181469.701609</td>\n",
       "    </tr>\n",
       "    <tr>\n",
       "      <th>4</th>\n",
       "      <td>625</td>\n",
       "      <td>535105100</td>\n",
       "      <td>20</td>\n",
       "      <td>RL</td>\n",
       "      <td>NaN</td>\n",
       "      <td>9500</td>\n",
       "      <td>Pave</td>\n",
       "      <td>NaN</td>\n",
       "      <td>IR1</td>\n",
       "      <td>Lvl</td>\n",
       "      <td>...</td>\n",
       "      <td>185</td>\n",
       "      <td>0</td>\n",
       "      <td>NaN</td>\n",
       "      <td>NaN</td>\n",
       "      <td>NaN</td>\n",
       "      <td>0</td>\n",
       "      <td>7</td>\n",
       "      <td>2009</td>\n",
       "      <td>WD</td>\n",
       "      <td>181469.701609</td>\n",
       "    </tr>\n",
       "  </tbody>\n",
       "</table>\n",
       "<p>5 rows × 81 columns</p>\n",
       "</div>"
      ],
      "text/plain": [
       "     id        pid  ms_subclass ms_zoning  lot_frontage  lot_area street  \\\n",
       "0  2658  902301120          190        RM          69.0      9142   Pave   \n",
       "1  2718  905108090           90        RL           NaN      9662   Pave   \n",
       "2  2414  528218130           60        RL          58.0     17104   Pave   \n",
       "3  1989  902207150           30        RM          60.0      8520   Pave   \n",
       "4   625  535105100           20        RL           NaN      9500   Pave   \n",
       "\n",
       "  alley lot_shape land_contour  ... screen_porch pool_area pool_qc fence  \\\n",
       "0  Grvl       Reg          Lvl  ...            0         0     NaN   NaN   \n",
       "1   NaN       IR1          Lvl  ...            0         0     NaN   NaN   \n",
       "2   NaN       IR1          Lvl  ...            0         0     NaN   NaN   \n",
       "3   NaN       Reg          Lvl  ...            0         0     NaN   NaN   \n",
       "4   NaN       IR1          Lvl  ...          185         0     NaN   NaN   \n",
       "\n",
       "  misc_feature misc_val mo_sold yr_sold  sale_type      saleprice  \n",
       "0          NaN        0       4    2006        WD   181469.701609  \n",
       "1          NaN        0       8    2006        WD   181469.701609  \n",
       "2          NaN        0       9    2006        New  181469.701609  \n",
       "3          NaN        0       7    2007        WD   181469.701609  \n",
       "4          NaN        0       7    2009        WD   181469.701609  \n",
       "\n",
       "[5 rows x 81 columns]"
      ]
     },
     "execution_count": 69,
     "metadata": {},
     "output_type": "execute_result"
    }
   ],
   "source": [
    "s_test.head()"
   ]
  },
  {
   "cell_type": "code",
   "execution_count": 70,
   "metadata": {},
   "outputs": [
    {
     "data": {
      "text/plain": [
       "id              0\n",
       "pid             0\n",
       "ms_subclass     0\n",
       "ms_zoning       0\n",
       "lot_frontage    0\n",
       "               ..\n",
       "misc_val        0\n",
       "mo_sold         0\n",
       "yr_sold         0\n",
       "sale_type       0\n",
       "saleprice       0\n",
       "Length: 81, dtype: int64"
      ]
     },
     "execution_count": 70,
     "metadata": {},
     "output_type": "execute_result"
    }
   ],
   "source": [
    "s_train.isnull().sum()"
   ]
  },
  {
   "cell_type": "code",
   "execution_count": 8,
   "metadata": {},
   "outputs": [
    {
     "data": {
      "text/plain": [
       "count      2051.000000\n",
       "mean     181469.701609\n",
       "std       79258.659352\n",
       "min       12789.000000\n",
       "25%      129825.000000\n",
       "50%      162500.000000\n",
       "75%      214000.000000\n",
       "max      611657.000000\n",
       "Name: saleprice, dtype: float64"
      ]
     },
     "execution_count": 8,
     "metadata": {},
     "output_type": "execute_result"
    }
   ],
   "source": [
    "s_train['saleprice'].describe()"
   ]
  },
  {
   "cell_type": "code",
   "execution_count": 9,
   "metadata": {},
   "outputs": [
    {
     "data": {
      "text/plain": [
       "count    2051.000000\n",
       "mean       57.008776\n",
       "std        42.824223\n",
       "min        20.000000\n",
       "25%        20.000000\n",
       "50%        50.000000\n",
       "75%        70.000000\n",
       "max       190.000000\n",
       "Name: ms_subclass, dtype: float64"
      ]
     },
     "execution_count": 9,
     "metadata": {},
     "output_type": "execute_result"
    }
   ],
   "source": [
    "s_train['ms_subclass'].describe()"
   ]
  },
  {
   "cell_type": "code",
   "execution_count": 10,
   "metadata": {},
   "outputs": [
    {
     "data": {
      "text/plain": [
       "count     2051\n",
       "unique       7\n",
       "top         RL\n",
       "freq      1598\n",
       "Name: ms_zoning, dtype: object"
      ]
     },
     "execution_count": 10,
     "metadata": {},
     "output_type": "execute_result"
    }
   ],
   "source": [
    "s_train['ms_zoning'].describe()"
   ]
  },
  {
   "cell_type": "code",
   "execution_count": 11,
   "metadata": {},
   "outputs": [
    {
     "data": {
      "text/plain": [
       "count    1721.000000\n",
       "mean       69.055200\n",
       "std        23.260653\n",
       "min        21.000000\n",
       "25%        58.000000\n",
       "50%        68.000000\n",
       "75%        80.000000\n",
       "max       313.000000\n",
       "Name: lot_frontage, dtype: float64"
      ]
     },
     "execution_count": 11,
     "metadata": {},
     "output_type": "execute_result"
    }
   ],
   "source": [
    "# May not use this as it has a lot of missing data \n",
    "# and lot area is probably more useful anyway\n",
    "s_train['lot_frontage'].describe()"
   ]
  },
  {
   "cell_type": "code",
   "execution_count": 12,
   "metadata": {},
   "outputs": [
    {
     "data": {
      "text/plain": [
       "count      2051.000000\n",
       "mean      10065.208191\n",
       "std        6742.488909\n",
       "min        1300.000000\n",
       "25%        7500.000000\n",
       "50%        9430.000000\n",
       "75%       11513.500000\n",
       "max      159000.000000\n",
       "Name: lot_area, dtype: float64"
      ]
     },
     "execution_count": 12,
     "metadata": {},
     "output_type": "execute_result"
    }
   ],
   "source": [
    "s_train['lot_area'].describe()"
   ]
  },
  {
   "cell_type": "code",
   "execution_count": 13,
   "metadata": {},
   "outputs": [
    {
     "data": {
      "text/plain": [
       "count     2051\n",
       "unique       2\n",
       "top       Pave\n",
       "freq      2044\n",
       "Name: street, dtype: object"
      ]
     },
     "execution_count": 13,
     "metadata": {},
     "output_type": "execute_result"
    }
   ],
   "source": [
    "s_train['street'].describe()"
   ]
  },
  {
   "cell_type": "code",
   "execution_count": 14,
   "metadata": {},
   "outputs": [
    {
     "data": {
      "text/plain": [
       "count    2051.000000\n",
       "mean        6.112140\n",
       "std         1.426271\n",
       "min         1.000000\n",
       "25%         5.000000\n",
       "50%         6.000000\n",
       "75%         7.000000\n",
       "max        10.000000\n",
       "Name: overall_qual, dtype: float64"
      ]
     },
     "execution_count": 14,
     "metadata": {},
     "output_type": "execute_result"
    }
   ],
   "source": [
    "s_train['overall_qual'].describe()"
   ]
  },
  {
   "cell_type": "code",
   "execution_count": 15,
   "metadata": {},
   "outputs": [
    {
     "data": {
      "text/plain": [
       "count    2051.000000\n",
       "mean        5.562165\n",
       "std         1.104497\n",
       "min         1.000000\n",
       "25%         5.000000\n",
       "50%         5.000000\n",
       "75%         6.000000\n",
       "max         9.000000\n",
       "Name: overall_cond, dtype: float64"
      ]
     },
     "execution_count": 15,
     "metadata": {},
     "output_type": "execute_result"
    }
   ],
   "source": [
    "s_train['overall_cond'].describe()"
   ]
  },
  {
   "cell_type": "code",
   "execution_count": 16,
   "metadata": {},
   "outputs": [
    {
     "data": {
      "text/plain": [
       "count    2051.000000\n",
       "mean     1971.708922\n",
       "std        30.177889\n",
       "min      1872.000000\n",
       "25%      1953.500000\n",
       "50%      1974.000000\n",
       "75%      2001.000000\n",
       "max      2010.000000\n",
       "Name: year_built, dtype: float64"
      ]
     },
     "execution_count": 16,
     "metadata": {},
     "output_type": "execute_result"
    }
   ],
   "source": [
    "s_train['year_built'].describe()"
   ]
  },
  {
   "cell_type": "code",
   "execution_count": 17,
   "metadata": {},
   "outputs": [
    {
     "data": {
      "text/plain": [
       "count     2051\n",
       "unique       4\n",
       "top         TA\n",
       "freq      1247\n",
       "Name: exter_qual, dtype: object"
      ]
     },
     "execution_count": 17,
     "metadata": {},
     "output_type": "execute_result"
    }
   ],
   "source": [
    "s_train['exter_qual'].describe()"
   ]
  },
  {
   "cell_type": "code",
   "execution_count": 18,
   "metadata": {},
   "outputs": [
    {
     "data": {
      "text/plain": [
       "count     1996\n",
       "unique       6\n",
       "top        GLQ\n",
       "freq       615\n",
       "Name: bsmtfin_type_1, dtype: object"
      ]
     },
     "execution_count": 18,
     "metadata": {},
     "output_type": "execute_result"
    }
   ],
   "source": [
    "s_train['bsmtfin_type_1'].describe()"
   ]
  },
  {
   "cell_type": "code",
   "execution_count": 19,
   "metadata": {},
   "outputs": [
    {
     "data": {
      "text/plain": [
       "count    2051.000000\n",
       "mean     2007.775719\n",
       "std         1.312014\n",
       "min      2006.000000\n",
       "25%      2007.000000\n",
       "50%      2008.000000\n",
       "75%      2009.000000\n",
       "max      2010.000000\n",
       "Name: yr_sold, dtype: float64"
      ]
     },
     "execution_count": 19,
     "metadata": {},
     "output_type": "execute_result"
    }
   ],
   "source": [
    "s_train['yr_sold'].describe()"
   ]
  },
  {
   "cell_type": "code",
   "execution_count": 20,
   "metadata": {},
   "outputs": [
    {
     "data": {
      "text/plain": [
       "count     2051\n",
       "unique       9\n",
       "top        WD \n",
       "freq      1781\n",
       "Name: sale_type, dtype: object"
      ]
     },
     "execution_count": 20,
     "metadata": {},
     "output_type": "execute_result"
    }
   ],
   "source": [
    "s_train['sale_type'].describe()"
   ]
  },
  {
   "cell_type": "code",
   "execution_count": 21,
   "metadata": {},
   "outputs": [
    {
     "data": {
      "text/plain": [
       "array(['WD ', 'New', 'COD', 'ConLD', 'Con', 'CWD', 'Oth', 'ConLI',\n",
       "       'ConLw'], dtype=object)"
      ]
     },
     "execution_count": 21,
     "metadata": {},
     "output_type": "execute_result"
    }
   ],
   "source": [
    "s_train['sale_type'].unique()"
   ]
  },
  {
   "cell_type": "code",
   "execution_count": 23,
   "metadata": {},
   "outputs": [
    {
     "data": {
      "text/plain": [
       "id                0\n",
       "pid               0\n",
       "ms_subclass       0\n",
       "ms_zoning         0\n",
       "lot_frontage    330\n",
       "               ... \n",
       "misc_val          0\n",
       "mo_sold           0\n",
       "yr_sold           0\n",
       "sale_type         0\n",
       "saleprice         0\n",
       "Length: 81, dtype: int64"
      ]
     },
     "execution_count": 23,
     "metadata": {},
     "output_type": "execute_result"
    }
   ],
   "source": [
    "s_train.isnull().sum()"
   ]
  },
  {
   "cell_type": "code",
   "execution_count": 71,
   "metadata": {},
   "outputs": [],
   "source": [
    "# Notes: \n",
    "# Group together sq ft measurements into a df\n",
    "# Overall Quality of specific features (that tend to have a bigger effect on price)\n",
    "# Num of kitchen, bedrooms on each level, Fireplaces\n",
    "# Lot size, frontage? shape, contour, config, slope\n",
    "# Types of materials on house"
   ]
  },
  {
   "cell_type": "code",
   "execution_count": 25,
   "metadata": {},
   "outputs": [],
   "source": [
    "s_train.fillna(0, inplace=True)"
   ]
  },
  {
   "cell_type": "code",
   "execution_count": 26,
   "metadata": {},
   "outputs": [
    {
     "data": {
      "text/plain": [
       "id              0\n",
       "pid             0\n",
       "ms_subclass     0\n",
       "ms_zoning       0\n",
       "lot_frontage    0\n",
       "               ..\n",
       "misc_val        0\n",
       "mo_sold         0\n",
       "yr_sold         0\n",
       "sale_type       0\n",
       "saleprice       0\n",
       "Length: 81, dtype: int64"
      ]
     },
     "execution_count": 26,
     "metadata": {},
     "output_type": "execute_result"
    }
   ],
   "source": [
    "s_train.isnull().sum()"
   ]
  },
  {
   "cell_type": "code",
   "execution_count": 27,
   "metadata": {},
   "outputs": [],
   "source": [
    "df_lots = s_train[['lot_frontage', 'lot_area', 'lot_config', 'lot_shape']]"
   ]
  },
  {
   "cell_type": "code",
   "execution_count": 72,
   "metadata": {},
   "outputs": [],
   "source": [
    "df_lots_grouped = df_lots.groupby(['lot_shape'])"
   ]
  },
  {
   "cell_type": "code",
   "execution_count": 73,
   "metadata": {},
   "outputs": [
    {
     "data": {
      "text/html": [
       "<div>\n",
       "<style scoped>\n",
       "    .dataframe tbody tr th:only-of-type {\n",
       "        vertical-align: middle;\n",
       "    }\n",
       "\n",
       "    .dataframe tbody tr th {\n",
       "        vertical-align: top;\n",
       "    }\n",
       "\n",
       "    .dataframe thead th {\n",
       "        text-align: right;\n",
       "    }\n",
       "</style>\n",
       "<table border=\"1\" class=\"dataframe\">\n",
       "  <thead>\n",
       "    <tr style=\"text-align: right;\">\n",
       "      <th></th>\n",
       "      <th>lot_frontage</th>\n",
       "      <th>lot_area</th>\n",
       "    </tr>\n",
       "    <tr>\n",
       "      <th>lot_shape</th>\n",
       "      <th></th>\n",
       "      <th></th>\n",
       "    </tr>\n",
       "  </thead>\n",
       "  <tbody>\n",
       "    <tr>\n",
       "      <th>IR1</th>\n",
       "      <td>50.547688</td>\n",
       "      <td>11470.709538</td>\n",
       "    </tr>\n",
       "    <tr>\n",
       "      <th>IR2</th>\n",
       "      <td>38.890909</td>\n",
       "      <td>19995.454545</td>\n",
       "    </tr>\n",
       "    <tr>\n",
       "      <th>IR3</th>\n",
       "      <td>77.111111</td>\n",
       "      <td>21102.222222</td>\n",
       "    </tr>\n",
       "    <tr>\n",
       "      <th>Reg</th>\n",
       "      <td>62.572973</td>\n",
       "      <td>8815.707336</td>\n",
       "    </tr>\n",
       "  </tbody>\n",
       "</table>\n",
       "</div>"
      ],
      "text/plain": [
       "           lot_frontage      lot_area\n",
       "lot_shape                            \n",
       "IR1           50.547688  11470.709538\n",
       "IR2           38.890909  19995.454545\n",
       "IR3           77.111111  21102.222222\n",
       "Reg           62.572973   8815.707336"
      ]
     },
     "execution_count": 73,
     "metadata": {},
     "output_type": "execute_result"
    }
   ],
   "source": [
    "df_lots_grouped.mean()"
   ]
  },
  {
   "cell_type": "code",
   "execution_count": 74,
   "metadata": {},
   "outputs": [],
   "source": [
    "# Changing like qualitative data to numeric for easier analysis \n",
    "s_train[['exter_qual', 'exter_cond', 'bsmt_qual', 'bsmt_cond', 'kitchen_qual', 'garage_qual', 'garage_cond']] = s_train[['exter_qual', 'exter_cond', 'bsmt_qual', 'bsmt_cond', 'kitchen_qual', 'garage_qual', 'garage_cond']].replace({'Ex':1, 'Gd':2, 'Ta':3, 'Fa':4, 'Po':5, 'NA':0})\n",
    "\n",
    "# df['outcome_dummy'] = df['outcome'].replace({\"Alive\":0, \"Dead\":1})"
   ]
  },
  {
   "cell_type": "code",
   "execution_count": null,
   "metadata": {},
   "outputs": [],
   "source": []
  },
  {
   "cell_type": "code",
   "execution_count": 31,
   "metadata": {},
   "outputs": [],
   "source": [
    "# df_qual = s_train[['overall_quality', '']]"
   ]
  },
  {
   "cell_type": "code",
   "execution_count": 32,
   "metadata": {
    "scrolled": true
   },
   "outputs": [
    {
     "data": {
      "text/plain": [
       "count    2051.000000\n",
       "mean        6.112140\n",
       "std         1.426271\n",
       "min         1.000000\n",
       "25%         5.000000\n",
       "50%         6.000000\n",
       "75%         7.000000\n",
       "max        10.000000\n",
       "Name: overall_qual, dtype: float64"
      ]
     },
     "execution_count": 32,
     "metadata": {},
     "output_type": "execute_result"
    }
   ],
   "source": [
    "s_train['overall_qual'].describe()"
   ]
  },
  {
   "cell_type": "code",
   "execution_count": 33,
   "metadata": {
    "scrolled": true
   },
   "outputs": [
    {
     "name": "stdout",
     "output_type": "stream",
     "text": [
      "      overall_cond  overall_qual\n",
      "0                8             6\n",
      "1                5             7\n",
      "2                7             5\n",
      "3                5             5\n",
      "4                8             6\n",
      "...            ...           ...\n",
      "2046             5             8\n",
      "2047             5             4\n",
      "2048             6             6\n",
      "2049             5             4\n",
      "2050             5             7\n",
      "\n",
      "[2051 rows x 2 columns]\n",
      "     overall_cond  overall_qual\n",
      "0               8             6\n",
      "1               4             5\n",
      "2               5             7\n",
      "3               6             5\n",
      "4               5             6\n",
      "..            ...           ...\n",
      "873             6             6\n",
      "874             7             6\n",
      "875             5             5\n",
      "876             6             4\n",
      "877             5             5\n",
      "\n",
      "[878 rows x 2 columns]\n"
     ]
    }
   ],
   "source": [
    "#Trying out a very small model first. \n",
    "train_feat = s_train[['overall_cond', 'overall_qual']]\n",
    "test_feat = s_test[['overall_cond', 'overall_qual']]\n",
    "print(train_feat)\n",
    "print(test_feat)"
   ]
  },
  {
   "cell_type": "code",
   "execution_count": 34,
   "metadata": {},
   "outputs": [
    {
     "name": "stdout",
     "output_type": "stream",
     "text": [
      "(2051, 2)\n",
      "(878, 2)\n"
     ]
    }
   ],
   "source": [
    "X_train = train_feat\n",
    "X_test = test_feat\n",
    "print(X_train.shape)\n",
    "print(X_test.shape)"
   ]
  },
  {
   "cell_type": "code",
   "execution_count": 35,
   "metadata": {},
   "outputs": [
    {
     "name": "stdout",
     "output_type": "stream",
     "text": [
      "(2051,)\n",
      "(878,)\n"
     ]
    }
   ],
   "source": [
    "y_train = s_train['saleprice']\n",
    "y_test = s_test['saleprice']\n",
    "print(y_train.shape)\n",
    "print(y_test.shape)"
   ]
  },
  {
   "cell_type": "code",
   "execution_count": 36,
   "metadata": {},
   "outputs": [
    {
     "data": {
      "text/plain": [
       "0      181469.701609\n",
       "1      181469.701609\n",
       "2      181469.701609\n",
       "3      181469.701609\n",
       "4      181469.701609\n",
       "           ...      \n",
       "873    181469.701609\n",
       "874    181469.701609\n",
       "875    181469.701609\n",
       "876    181469.701609\n",
       "877    181469.701609\n",
       "Name: saleprice, Length: 878, dtype: float64"
      ]
     },
     "execution_count": 36,
     "metadata": {},
     "output_type": "execute_result"
    }
   ],
   "source": [
    "y_test"
   ]
  },
  {
   "cell_type": "code",
   "execution_count": 37,
   "metadata": {},
   "outputs": [],
   "source": [
    "lr = LinearRegression()"
   ]
  },
  {
   "cell_type": "code",
   "execution_count": 38,
   "metadata": {},
   "outputs": [],
   "source": [
    "# cross_val_score(estimator=lr, X=X_train, y=y_train)"
   ]
  },
  {
   "cell_type": "code",
   "execution_count": 39,
   "metadata": {},
   "outputs": [],
   "source": [
    "# cross_val_score(estimator=lr, X=X_train, y=y_train).mean()"
   ]
  },
  {
   "cell_type": "code",
   "execution_count": 40,
   "metadata": {},
   "outputs": [
    {
     "data": {
      "text/plain": [
       "LinearRegression()"
      ]
     },
     "execution_count": 40,
     "metadata": {},
     "output_type": "execute_result"
    }
   ],
   "source": [
    "# Fit the model on training data\n",
    "lr.fit(X_train, y_train)"
   ]
  },
  {
   "cell_type": "code",
   "execution_count": 41,
   "metadata": {},
   "outputs": [],
   "source": [
    "y_pred = lr.predict(X_test)"
   ]
  },
  {
   "cell_type": "code",
   "execution_count": 42,
   "metadata": {},
   "outputs": [
    {
     "data": {
      "text/plain": [
       "3729557995.132537"
      ]
     },
     "execution_count": 42,
     "metadata": {},
     "output_type": "execute_result"
    }
   ],
   "source": [
    "# RMSE for testing\n",
    "metrics.mean_squared_error(y_test, y_pred)"
   ]
  },
  {
   "cell_type": "code",
   "execution_count": null,
   "metadata": {},
   "outputs": [],
   "source": []
  },
  {
   "cell_type": "code",
   "execution_count": 43,
   "metadata": {},
   "outputs": [
    {
     "data": {
      "text/plain": [
       "array([0.63941277, 0.65527318, 0.65566575, 0.64292426, 0.60841285])"
      ]
     },
     "execution_count": 43,
     "metadata": {},
     "output_type": "execute_result"
    }
   ],
   "source": [
    "cross_val_score(estimator=lr, X=X_train, y=y_train)"
   ]
  },
  {
   "cell_type": "code",
   "execution_count": 44,
   "metadata": {},
   "outputs": [
    {
     "data": {
      "text/plain": [
       "0.6403377640357033"
      ]
     },
     "execution_count": 44,
     "metadata": {},
     "output_type": "execute_result"
    }
   ],
   "source": [
    "cross_val_score(estimator=lr, X=X_train, y=y_train).mean()"
   ]
  },
  {
   "cell_type": "code",
   "execution_count": 45,
   "metadata": {},
   "outputs": [
    {
     "data": {
      "text/plain": [
       "0.6412853172301677"
      ]
     },
     "execution_count": 45,
     "metadata": {},
     "output_type": "execute_result"
    }
   ],
   "source": [
    "# Training score\n",
    "lr.score(X_train, y_train)"
   ]
  },
  {
   "cell_type": "code",
   "execution_count": 46,
   "metadata": {},
   "outputs": [
    {
     "data": {
      "text/plain": [
       "0.0"
      ]
     },
     "execution_count": 46,
     "metadata": {},
     "output_type": "execute_result"
    }
   ],
   "source": [
    "# Testing score\n",
    "lr.score(X_test, y_test)"
   ]
  },
  {
   "cell_type": "code",
   "execution_count": 47,
   "metadata": {},
   "outputs": [
    {
     "name": "stdout",
     "output_type": "stream",
     "text": [
      "[171076.31092744 222074.88649096 128975.34270332 ... 175525.11459714\n",
      "  89098.77631406 222074.88649096]\n",
      "[171076.31092744 135648.54820788 222074.88649096 131199.74453817\n",
      " 177749.516432    86874.37447921  86874.37447921 128975.34270332\n",
      " 222074.88649096 175525.11459714 177749.516432   173300.71276229\n",
      " 177749.516432   222074.88649096 173300.71276229 131199.74453817\n",
      " 175525.11459714 133424.14637303 175525.11459714 257502.64921052\n",
      " 126750.94086847 131199.74453817 177749.516432   177749.516432\n",
      " 219850.48465611 128975.34270332  91323.17814891 131199.74453817\n",
      " 173300.71276229  44773.40625509  86874.37447921  89098.77631406\n",
      " 217626.08282126 131199.74453817 222074.88649096 222074.88649096\n",
      "  86874.37447921  84649.97264435 128975.34270332 222074.88649096\n",
      " 177749.516432   222074.88649096 131199.74453817 128975.34270332\n",
      " 219850.48465611  86874.37447921 222074.88649096 133424.14637303\n",
      " 128975.34270332 133424.14637303 133424.14637303 257502.64921052\n",
      " 266400.25654993 131199.74453817 133424.14637303 171076.31092744\n",
      " 219850.48465611 133424.14637303 222074.88649096 222074.88649096\n",
      " 266400.25654993 135648.54820788 131199.74453817 219850.48465611\n",
      " 177749.516432   266400.25654993  91323.17814891 177749.516432\n",
      "  42549.00442024 177749.516432    89098.77631406 266400.25654993\n",
      " 179973.91826685 222074.88649096 128975.34270332 177749.516432\n",
      " 135648.54820788 177749.516432   128975.34270332 310725.6266089\n",
      " 222074.88649096 177749.516432   128975.34270332  86874.37447921\n",
      " 177749.516432   266400.25654993 131199.74453817 177749.516432\n",
      " 264175.85471508 173300.71276229 128975.34270332  84649.97264435\n",
      " 173300.71276229 266400.25654993 128975.34270332 175525.11459714\n",
      " 131199.74453817 266400.25654993 177749.516432   264175.85471508\n",
      " 257502.64921052 177749.516432   133424.14637303 355050.99666787\n",
      " 175525.11459714 124526.53903361 177749.516432   177749.516432\n",
      " 177749.516432    93547.57998377 177749.516432   266400.25654993\n",
      "  84649.97264435 133424.14637303 222074.88649096 355050.99666787\n",
      " 124526.53903361 133424.14637303 310725.6266089  175525.11459714\n",
      " 355050.99666787 266400.25654993 310725.6266089  175525.11459714\n",
      "  89098.77631406 310725.6266089  128975.34270332 128975.34270332\n",
      " 128975.34270332 310725.6266089  133424.14637303 177749.516432\n",
      " 133424.14637303 171076.31092744 177749.516432   219850.48465611\n",
      " 219850.48465611 222074.88649096 177749.516432   128975.34270332\n",
      " 173300.71276229 131199.74453817 173300.71276229 184422.72193656\n",
      " 126750.94086847 133424.14637303 175525.11459714 173300.71276229\n",
      "  86874.37447921 222074.88649096 222074.88649096 175525.11459714\n",
      " 173300.71276229 133424.14637303 126750.94086847 128975.34270332\n",
      "  91323.17814891 173300.71276229 222074.88649096 266400.25654993\n",
      " 177749.516432   131199.74453817 128975.34270332 355050.99666787\n",
      " 310725.6266089  266400.25654993 177749.516432   222074.88649096\n",
      " 222074.88649096 222074.88649096 355050.99666787 133424.14637303\n",
      " 133424.14637303 222074.88649096 222074.88649096 173300.71276229\n",
      " 131199.74453817 135648.54820788  89098.77631406 133424.14637303\n",
      " 140097.35187759 222074.88649096 217626.08282126 222074.88649096\n",
      " 177749.516432   177749.516432   222074.88649096 217626.08282126\n",
      " 133424.14637303  49222.2099248  222074.88649096 131199.74453817\n",
      " 173300.71276229 133424.14637303 177749.516432   175525.11459714\n",
      " 266400.25654993 133424.14637303 131199.74453817 128975.34270332\n",
      " 266400.25654993 219850.48465611 173300.71276229 177749.516432\n",
      " 173300.71276229  89098.77631406 177749.516432   171076.31092744\n",
      " 266400.25654993 177749.516432   177749.516432   175525.11459714\n",
      "  84649.97264435 222074.88649096 310725.6266089  222074.88649096\n",
      " 219850.48465611 215401.6809864   86874.37447921 128975.34270332\n",
      " 222074.88649096 177749.516432   177749.516432   177749.516432\n",
      " 175525.11459714 128975.34270332 266400.25654993 222074.88649096\n",
      " 135648.54820788 222074.88649096 128975.34270332  86874.37447921\n",
      "  89098.77631406  89098.77631406 268624.65838479 177749.516432\n",
      " 128975.34270332 310725.6266089  266400.25654993 222074.88649096\n",
      " 266400.25654993 177749.516432   266400.25654993 222074.88649096\n",
      " 310725.6266089  266400.25654993 177749.516432    84649.97264435\n",
      " 177749.516432   310725.6266089  266400.25654993 177749.516432\n",
      " 266400.25654993 222074.88649096 177749.516432    44773.40625509\n",
      "  84649.97264435 310725.6266089  222074.88649096 171076.31092744\n",
      " 222074.88649096 175525.11459714 177749.516432   177749.516432\n",
      " 222074.88649096 177749.516432   131199.74453817 222074.88649096\n",
      " 177749.516432   177749.516432   175525.11459714 222074.88649096\n",
      " 217626.08282126 257502.64921052  86874.37447921 135648.54820788\n",
      " 177749.516432   128975.34270332 133424.14637303 133424.14637303\n",
      " 266400.25654993 171076.31092744 133424.14637303 128975.34270332\n",
      " 175525.11459714 219850.48465611 171076.31092744 177749.516432\n",
      " 182198.3201017  131199.74453817 128975.34270332 175525.11459714\n",
      "  93547.57998377 131199.74453817 131199.74453817 177749.516432\n",
      " 222074.88649096 222074.88649096 266400.25654993 182198.3201017\n",
      " 175525.11459714 310725.6266089  131199.74453817 133424.14637303\n",
      " 135648.54820788 137872.95004273 131199.74453817 222074.88649096\n",
      " 133424.14637303 131199.74453817 128975.34270332 266400.25654993\n",
      " 222074.88649096 266400.25654993  86874.37447921 317398.83211346\n",
      " 310725.6266089  266400.25654993 222074.88649096 135648.54820788\n",
      "  89098.77631406 126750.94086847 131199.74453817 266400.25654993\n",
      " 133424.14637303 175525.11459714 128975.34270332 222074.88649096\n",
      " 213177.27915155 131199.74453817 135648.54820788 177749.516432\n",
      " 133424.14637303 266400.25654993 126750.94086847 219850.48465611\n",
      " 126750.94086847  84649.97264435 177749.516432   266400.25654993\n",
      " 131199.74453817 133424.14637303 128975.34270332 177749.516432\n",
      " 266400.25654993 266400.25654993 177749.516432   133424.14637303\n",
      " 222074.88649096 131199.74453817 222074.88649096 173300.71276229\n",
      " 173300.71276229 266400.25654993  89098.77631406 217626.08282126\n",
      " 173300.71276229 222074.88649096 266400.25654993 128975.34270332\n",
      " 173300.71276229  93547.57998377 137872.95004273 133424.14637303\n",
      " 266400.25654993 266400.25654993 135648.54820788 131199.74453817\n",
      " 222074.88649096  38100.20075053 177749.516432   175525.11459714\n",
      " 175525.11459714 310725.6266089  177749.516432   266400.25654993\n",
      " 215401.6809864  266400.25654993 222074.88649096 133424.14637303\n",
      " 173300.71276229 224299.28832582 310725.6266089  266400.25654993\n",
      " 222074.88649096 175525.11459714 135648.54820788 257502.64921052\n",
      " 128975.34270332 128975.34270332 133424.14637303 222074.88649096\n",
      " 175525.11459714  86874.37447921 222074.88649096  93547.57998377\n",
      " 177749.516432   177749.516432   133424.14637303  46997.80808994\n",
      " 261951.45288023 222074.88649096 131199.74453817 266400.25654993\n",
      " 133424.14637303 133424.14637303 128975.34270332 219850.48465611\n",
      " 266400.25654993 128975.34270332  84649.97264435 131199.74453817\n",
      " 217626.08282126 137872.95004273 266400.25654993 266400.25654993\n",
      " 133424.14637303 222074.88649096  86874.37447921 135648.54820788\n",
      " 173300.71276229 131199.74453817 135648.54820788 168851.90909258\n",
      " 222074.88649096 355050.99666787 266400.25654993 222074.88649096\n",
      " 219850.48465611 310725.6266089   89098.77631406 173300.71276229\n",
      " 128975.34270332 222074.88649096  84649.97264435 266400.25654993\n",
      " 222074.88649096 175525.11459714 222074.88649096 182198.3201017\n",
      " 217626.08282126 133424.14637303 171076.31092744 175525.11459714\n",
      " 175525.11459714 126750.94086847   9345.64353554  84649.97264435\n",
      " 222074.88649096 133424.14637303 219850.48465611 266400.25654993\n",
      " 222074.88649096 222074.88649096 222074.88649096 266400.25654993\n",
      " 222074.88649096 131199.74453817 266400.25654993 128975.34270332\n",
      " 175525.11459714 131199.74453817 177749.516432   352826.59483302\n",
      "  84649.97264435 222074.88649096 222074.88649096 222074.88649096\n",
      " 177749.516432   128975.34270332 128975.34270332 222074.88649096\n",
      " 177749.516432   133424.14637303 222074.88649096 266400.25654993\n",
      " 128975.34270332 133424.14637303 133424.14637303 177749.516432\n",
      "  93547.57998377 222074.88649096 128975.34270332 222074.88649096\n",
      " 264175.85471508 175525.11459714 177749.516432   177749.516432\n",
      " 177749.516432   173300.71276229 135648.54820788 222074.88649096\n",
      " 171076.31092744 219850.48465611 310725.6266089  222074.88649096\n",
      " 135648.54820788 126750.94086847 135648.54820788  86874.37447921\n",
      " 177749.516432   266400.25654993 222074.88649096 177749.516432\n",
      " 177749.516432   126750.94086847 259727.05104537 175525.11459714\n",
      " 131199.74453817 266400.25654993  46997.80808994 131199.74453817\n",
      " 131199.74453817 128975.34270332    448.03619612 177749.516432\n",
      " 133424.14637303 222074.88649096 266400.25654993 266400.25654993\n",
      " 131199.74453817 131199.74453817 142321.75371244 133424.14637303\n",
      " 222074.88649096 310725.6266089  266400.25654993 133424.14637303\n",
      " 126750.94086847    448.03619612 219850.48465611 177749.516432\n",
      " 175525.11459714 222074.88649096 126750.94086847 175525.11459714\n",
      "  89098.77631406 213177.27915155 133424.14637303 177749.516432\n",
      " 173300.71276229  89098.77631406  91323.17814891 177749.516432\n",
      " 219850.48465611 266400.25654993 219850.48465611 131199.74453817\n",
      " 177749.516432   266400.25654993 131199.74453817 266400.25654993\n",
      " 131199.74453817 133424.14637303 222074.88649096 128975.34270332\n",
      " 131199.74453817 177749.516432   171076.31092744 173300.71276229\n",
      " 133424.14637303 222074.88649096 177749.516432   128975.34270332\n",
      " 175525.11459714 131199.74453817 133424.14637303 177749.516432\n",
      " 175525.11459714 215401.6809864  133424.14637303 126750.94086847\n",
      "  89098.77631406 133424.14637303 175525.11459714 171076.31092744\n",
      " 173300.71276229 177749.516432   135648.54820788 131199.74453817\n",
      " 133424.14637303 133424.14637303 222074.88649096 133424.14637303\n",
      " 177749.516432   175525.11459714 128975.34270332  89098.77631406\n",
      " 266400.25654993 222074.88649096 126750.94086847 128975.34270332\n",
      " 131199.74453817 133424.14637303 310725.6266089  219850.48465611\n",
      " 124526.53903361 126750.94086847 133424.14637303 310725.6266089\n",
      " 128975.34270332 222074.88649096 133424.14637303 177749.516432\n",
      " 222074.88649096 133424.14637303 128975.34270332  89098.77631406\n",
      " 177749.516432   135648.54820788 128975.34270332 266400.25654993\n",
      " 222074.88649096 133424.14637303 175525.11459714   4896.83986583\n",
      " 222074.88649096 266400.25654993  93547.57998377 222074.88649096\n",
      " 222074.88649096 133424.14637303 135648.54820788 133424.14637303\n",
      " 173300.71276229 133424.14637303 222074.88649096 133424.14637303\n",
      " 266400.25654993 177749.516432   131199.74453817 173300.71276229\n",
      " 131199.74453817  49222.2099248  133424.14637303 177749.516432\n",
      " 177749.516432   177749.516432   128975.34270332 126750.94086847\n",
      " 310725.6266089  131199.74453817 177749.516432   266400.25654993\n",
      " 175525.11459714  86874.37447921 266400.25654993 222074.88649096\n",
      " 177749.516432   177749.516432   131199.74453817 128975.34270332\n",
      " 131199.74453817 171076.31092744  42549.00442024 171076.31092744\n",
      " 222074.88649096 177749.516432   222074.88649096 177749.516432\n",
      " 175525.11459714 177749.516432   177749.516432   217626.08282126\n",
      " 310725.6266089  222074.88649096 128975.34270332 173300.71276229\n",
      " 128975.34270332 266400.25654993 266400.25654993 222074.88649096\n",
      " 215401.6809864  133424.14637303 133424.14637303 128975.34270332\n",
      " 135648.54820788  89098.77631406 177749.516432   128975.34270332\n",
      " 266400.25654993 217626.08282126 177749.516432   266400.25654993\n",
      " 177749.516432   175525.11459714 177749.516432   310725.6266089\n",
      " 131199.74453817 177749.516432    44773.40625509 128975.34270332\n",
      " 222074.88649096 177749.516432   222074.88649096 175525.11459714\n",
      " 222074.88649096 266400.25654993 133424.14637303 266400.25654993\n",
      " 177749.516432    89098.77631406 173300.71276229 131199.74453817\n",
      " 219850.48465611 222074.88649096 177749.516432   131199.74453817\n",
      "  89098.77631406 310725.6266089  222074.88649096  89098.77631406\n",
      " 133424.14637303 133424.14637303 128975.34270332 171076.31092744\n",
      " 222074.88649096 266400.25654993 175525.11459714 222074.88649096\n",
      " 222074.88649096 266400.25654993 126750.94086847 128975.34270332\n",
      " 266400.25654993 133424.14637303 222074.88649096 128975.34270332\n",
      " 266400.25654993  86874.37447921 266400.25654993 177749.516432\n",
      " 266400.25654993 177749.516432   133424.14637303 133424.14637303\n",
      " 131199.74453817 175525.11459714 171076.31092744 133424.14637303\n",
      " 222074.88649096 128975.34270332 131199.74453817 131199.74453817\n",
      " 171076.31092744 133424.14637303 222074.88649096 175525.11459714\n",
      " 171076.31092744 266400.25654993 266400.25654993 131199.74453817\n",
      " 177749.516432   175525.11459714  89098.77631406 177749.516432\n",
      " 310725.6266089   84649.97264435 133424.14637303 266400.25654993\n",
      " 175525.11459714 222074.88649096  89098.77631406 173300.71276229\n",
      " 171076.31092744 266400.25654993 222074.88649096 222074.88649096\n",
      " 266400.25654993 177749.516432   222074.88649096 222074.88649096\n",
      " 135648.54820788 173300.71276229 135648.54820788 131199.74453817\n",
      " 222074.88649096 171076.31092744  86874.37447921 131199.74453817\n",
      " 177749.516432   310725.6266089  133424.14637303 126750.94086847\n",
      "  84649.97264435 133424.14637303 266400.25654993 175525.11459714\n",
      " 222074.88649096 128975.34270332 219850.48465611 222074.88649096\n",
      " 177749.516432   266400.25654993 133424.14637303 264175.85471508\n",
      " 266400.25654993 222074.88649096 222074.88649096 222074.88649096\n",
      " 131199.74453817 175525.11459714 219850.48465611  97996.38365347\n",
      " 222074.88649096 128975.34270332 128975.34270332 222074.88649096\n",
      " 175525.11459714 133424.14637303 128975.34270332 266400.25654993\n",
      " 177749.516432   131199.74453817 219850.48465611 222074.88649096\n",
      " 177749.516432    84649.97264435  89098.77631406 173300.71276229\n",
      " 177749.516432   133424.14637303 310725.6266089   86874.37447921\n",
      " 222074.88649096 222074.88649096 310725.6266089  128975.34270332\n",
      " 177749.516432   133424.14637303 222074.88649096 177749.516432\n",
      " 266400.25654993 266400.25654993 177749.516432   133424.14637303\n",
      " 266400.25654993 124526.53903361 131199.74453817 133424.14637303\n",
      " 222074.88649096 222074.88649096 219850.48465611 133424.14637303\n",
      " 175525.11459714 177749.516432   222074.88649096 222074.88649096\n",
      " 175525.11459714 175525.11459714 177749.516432   177749.516432\n",
      " 175525.11459714 133424.14637303 173300.71276229  42549.00442024\n",
      " 266400.25654993  82425.5708095  222074.88649096 133424.14637303\n",
      " 310725.6266089  222074.88649096 131199.74453817 131199.74453817\n",
      " 133424.14637303 222074.88649096 177749.516432   222074.88649096\n",
      " 140097.35187759 133424.14637303 222074.88649096 266400.25654993\n",
      " 222074.88649096 175525.11459714 173300.71276229 133424.14637303\n",
      "  86874.37447921 133424.14637303]\n"
     ]
    }
   ],
   "source": [
    "# Let's create predictions!\n",
    "train_preds = lr.predict(X_train)\n",
    "test_preds = lr.predict(X_test)\n",
    "print(train_preds)\n",
    "print(test_preds)"
   ]
  },
  {
   "cell_type": "code",
   "execution_count": 48,
   "metadata": {},
   "outputs": [
    {
     "data": {
      "text/plain": [
       "0.0"
      ]
     },
     "execution_count": 48,
     "metadata": {},
     "output_type": "execute_result"
    }
   ],
   "source": [
    "metrics.r2_score(y_test, test_preds)"
   ]
  },
  {
   "cell_type": "code",
   "execution_count": 49,
   "metadata": {},
   "outputs": [
    {
     "data": {
      "text/plain": [
       "2252323655.7740097"
      ]
     },
     "execution_count": 49,
     "metadata": {},
     "output_type": "execute_result"
    }
   ],
   "source": [
    "# MSE for training\n",
    "metrics.mean_squared_error(y_true=y_train, y_pred=train_preds)"
   ]
  },
  {
   "cell_type": "code",
   "execution_count": 50,
   "metadata": {},
   "outputs": [
    {
     "data": {
      "text/plain": [
       "3729557995.132537"
      ]
     },
     "execution_count": 50,
     "metadata": {},
     "output_type": "execute_result"
    }
   ],
   "source": [
    "# MSE for testing\n",
    "metrics.mean_squared_error(y_true=y_test, y_pred=test_preds)"
   ]
  },
  {
   "cell_type": "code",
   "execution_count": 51,
   "metadata": {},
   "outputs": [
    {
     "data": {
      "text/plain": [
       "47458.65206444458"
      ]
     },
     "execution_count": 51,
     "metadata": {},
     "output_type": "execute_result"
    }
   ],
   "source": [
    "# RMSE for training\n",
    "metrics.mean_squared_error(y_true=y_train, y_pred=train_preds, squared=False)"
   ]
  },
  {
   "cell_type": "code",
   "execution_count": 52,
   "metadata": {},
   "outputs": [
    {
     "data": {
      "text/plain": [
       "61070.107214025236"
      ]
     },
     "execution_count": 52,
     "metadata": {},
     "output_type": "execute_result"
    }
   ],
   "source": [
    "# RMSE for testing\n",
    "metrics.mean_squared_error(y_true=y_test, y_pred=test_preds, squared=False)"
   ]
  },
  {
   "cell_type": "code",
   "execution_count": 53,
   "metadata": {},
   "outputs": [
    {
     "data": {
      "text/plain": [
       "array([-2224.40183485, 44325.37005897])"
      ]
     },
     "execution_count": 53,
     "metadata": {},
     "output_type": "execute_result"
    }
   ],
   "source": [
    "# Look at the coefficients\n",
    "lr.coef_"
   ]
  },
  {
   "cell_type": "code",
   "execution_count": null,
   "metadata": {},
   "outputs": [],
   "source": []
  },
  {
   "cell_type": "code",
   "execution_count": null,
   "metadata": {},
   "outputs": [],
   "source": []
  },
  {
   "cell_type": "code",
   "execution_count": null,
   "metadata": {},
   "outputs": [],
   "source": []
  },
  {
   "cell_type": "code",
   "execution_count": 54,
   "metadata": {},
   "outputs": [],
   "source": [
    "scaler = StandardScaler()"
   ]
  },
  {
   "cell_type": "code",
   "execution_count": 55,
   "metadata": {},
   "outputs": [],
   "source": [
    "X_train = pd.DataFrame(scaler.fit_transform(X_train), columns=X_train.columns)\n",
    "X_test = pd.DataFrame(scaler.transform(X_test), columns=X_test.columns)"
   ]
  },
  {
   "cell_type": "code",
   "execution_count": 56,
   "metadata": {},
   "outputs": [],
   "source": [
    "model = sm.OLS(y_train, X_train).fit()"
   ]
  },
  {
   "cell_type": "code",
   "execution_count": 57,
   "metadata": {},
   "outputs": [],
   "source": [
    "# plt.figure(figsize=(12, 6))\n",
    "# plt.plot(X_train, ypreds) # regression line\n",
    "# plt.plot(X_train, y, 'ro') # scatter plot showing actual data\n",
    "# plt.title('Actual vs Predicted')\n",
    "# plt.xlabel('Square Feet')\n",
    "# plt.ylabel('Price')\n",
    "# plt.show()"
   ]
  },
  {
   "cell_type": "code",
   "execution_count": 58,
   "metadata": {},
   "outputs": [],
   "source": [
    "#sns.pairplot(data=s_train, y_vars = y_train, x_vars = X_train, diag_kind=None);"
   ]
  },
  {
   "cell_type": "code",
   "execution_count": null,
   "metadata": {},
   "outputs": [],
   "source": []
  },
  {
   "cell_type": "code",
   "execution_count": null,
   "metadata": {},
   "outputs": [],
   "source": []
  },
  {
   "cell_type": "code",
   "execution_count": null,
   "metadata": {},
   "outputs": [],
   "source": []
  },
  {
   "cell_type": "code",
   "execution_count": null,
   "metadata": {},
   "outputs": [],
   "source": []
  },
  {
   "cell_type": "code",
   "execution_count": null,
   "metadata": {},
   "outputs": [],
   "source": []
  },
  {
   "cell_type": "code",
   "execution_count": null,
   "metadata": {},
   "outputs": [],
   "source": []
  },
  {
   "cell_type": "code",
   "execution_count": null,
   "metadata": {},
   "outputs": [],
   "source": []
  },
  {
   "cell_type": "code",
   "execution_count": null,
   "metadata": {},
   "outputs": [],
   "source": []
  },
  {
   "cell_type": "markdown",
   "metadata": {},
   "source": [
    "### New Data Frames from cleaned and merged data frames"
   ]
  },
  {
   "cell_type": "code",
   "execution_count": null,
   "metadata": {},
   "outputs": [],
   "source": []
  },
  {
   "cell_type": "code",
   "execution_count": null,
   "metadata": {},
   "outputs": [],
   "source": []
  },
  {
   "cell_type": "code",
   "execution_count": null,
   "metadata": {},
   "outputs": [],
   "source": []
  },
  {
   "cell_type": "code",
   "execution_count": null,
   "metadata": {},
   "outputs": [],
   "source": []
  },
  {
   "cell_type": "code",
   "execution_count": null,
   "metadata": {},
   "outputs": [],
   "source": []
  },
  {
   "cell_type": "code",
   "execution_count": null,
   "metadata": {},
   "outputs": [],
   "source": []
  },
  {
   "cell_type": "markdown",
   "metadata": {},
   "source": [
    "### Data Visualization"
   ]
  },
  {
   "cell_type": "code",
   "execution_count": 65,
   "metadata": {},
   "outputs": [
    {
     "name": "stdout",
     "output_type": "stream",
     "text": [
      "The cheapest house sold for $181,470 and the most expensive for $181,470\n",
      "The average sales price is $181,470, while median is $181,470\n"
     ]
    },
    {
     "data": {
      "image/png": "[encoded data removed]",
      "text/plain": [
       "<Figure size 1008x288 with 1 Axes>"
      ]
     },
     "metadata": {
      "needs_background": "light"
     },
     "output_type": "display_data"
    }
   ],
   "source": [
    "# How expensive are houses?\n",
    "print('The cheapest house sold for ${:,.0f} and the most expensive for ${:,.0f}'.format(\n",
    "    train.SalePrice.min(), train.SalePrice.max()))\n",
    "print('The average sales price is ${:,.0f}, while median is ${:,.0f}'.format(\n",
    "    train.SalePrice.mean(), train.SalePrice.median()))\n",
    "train.SalePrice.hist(bins=75, rwidth=.8, figsize=(14,4))\n",
    "plt.title('How expensive are houses?')\n",
    "plt.show()"
   ]
  },
  {
   "cell_type": "code",
   "execution_count": 62,
   "metadata": {},
   "outputs": [
    {
     "data": {
      "image/png": "[encoded data removed]",
      "text/plain": [
       "<Figure size 432x288 with 2 Axes>"
      ]
     },
     "metadata": {
      "needs_background": "light"
     },
     "output_type": "display_data"
    }
   ],
   "source": [
    "sns.heatmap(s_train.corr(), annot=True, vmin=-1, vmax=1, cmap=\"bone\");"
   ]
  },
  {
   "cell_type": "code",
   "execution_count": null,
   "metadata": {},
   "outputs": [],
   "source": []
  },
  {
   "cell_type": "code",
   "execution_count": null,
   "metadata": {},
   "outputs": [],
   "source": []
  },
  {
   "cell_type": "code",
   "execution_count": null,
   "metadata": {},
   "outputs": [],
   "source": []
  },
  {
   "cell_type": "code",
   "execution_count": null,
   "metadata": {},
   "outputs": [],
   "source": []
  },
  {
   "cell_type": "markdown",
   "metadata": {},
   "source": [
    "### Data Dictionary"
   ]
  },
  {
   "cell_type": "code",
   "execution_count": null,
   "metadata": {},
   "outputs": [],
   "source": []
  },
  {
   "cell_type": "markdown",
   "metadata": {},
   "source": [
    "### Conclusions and Recommendations"
   ]
  },
  {
   "cell_type": "code",
   "execution_count": null,
   "metadata": {},
   "outputs": [],
   "source": []
  },
  {
   "cell_type": "code",
   "execution_count": null,
   "metadata": {},
   "outputs": [],
   "source": []
  },
  {
   "cell_type": "code",
   "execution_count": null,
   "metadata": {},
   "outputs": [],
   "source": [
    "#submission = test[['Id', 'SalePrice']].copy()"
   ]
  },
  {
   "cell_type": "code",
   "execution_count": null,
   "metadata": {},
   "outputs": [],
   "source": [
    "#submission.to_csv('datasets/sample_submission_1.csv', index=False)"
   ]
  }
 ],
 "metadata": {
  "kernelspec": {
   "display_name": "Python 3",
   "language": "python",
   "name": "python3"
  },
  "language_info": {
   "codemirror_mode": {
    "name": "ipython",
    "version": 3
   },
   "file_extension": ".py",
   "mimetype": "text/x-python",
   "name": "python",
   "nbconvert_exporter": "python",
   "pygments_lexer": "ipython3",
   "version": "3.8.5"
  }
 },
 "nbformat": 4,
 "nbformat_minor": 4
}
