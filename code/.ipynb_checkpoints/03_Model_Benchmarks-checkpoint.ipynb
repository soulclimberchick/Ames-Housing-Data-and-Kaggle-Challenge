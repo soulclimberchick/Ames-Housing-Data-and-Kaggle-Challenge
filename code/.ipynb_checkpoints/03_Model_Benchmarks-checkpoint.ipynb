{
 "cells": [
  {
   "cell_type": "markdown",
   "metadata": {},
   "source": [
    "# Model Benchmarks"
   ]
  },
  {
   "cell_type": "markdown",
   "metadata": {},
   "source": [
    "## Initial Benchmark Scores\n",
    "\n",
    "Features: ['id', 'exter_qual', 'exter_cond', 'bsmt_qual', 'bsmt_cond', 'kitchen_qual', 'garage_qual', 'garage_cond']    \n",
    "\n",
    "### Linear Regression (mean) \n",
    "0.6028967530715204\n",
    "\n",
    "### Lasso (mean)\n",
    "0.5657649512165851\n",
    "\n",
    "### Ridge (mean)\n",
    "0.6034292987834449\n",
    "\n",
    "#### R^2\n",
    "0.5962729366219146\n",
    "\n",
    "### KNN\n",
    "0.007537688442211055\n",
    "\n",
    "### KNN Grid Search\n",
    "0.012598456441084857"
   ]
  },
  {
   "cell_type": "markdown",
   "metadata": {},
   "source": [
    "## Benchmarks on Second Model\n",
    "#### This model was a bust. Just tried out different data altogether from the first.\n",
    "Features: ['lot_frontage', 'lot_area', 'lot_config', 'lot_shape']\n",
    "\n",
    "\n",
    "### Linear Regression (mean)  \n",
    "0.14421668475994587\n",
    "\n",
    "### Lasso (mean)\n",
    "-0.10576961371052578\n",
    "\n",
    "### Ridge (mean)\n",
    "0.14417131483404108\n",
    "\n",
    "#### R^2\n",
    "0.17154868244105592\n"
   ]
  },
  {
   "cell_type": "markdown",
   "metadata": {},
   "source": [
    "## Benchmarks on Third Model\n",
    "#### This model is a variation of the first with some features added and some removed\n",
    "#### Significantly better than the first model\n",
    "Features: ['overall_qual', 'overall_cond', 'exter_qual', 'gr_liv_area', 'garage_area']\n",
    "\n",
    "\n",
    "### Linear Regression (mean) \n",
    "0.8014901128625364\n",
    "\n",
    "### Lasso (mean)\n",
    "0.7523822140960168\n",
    "\n",
    "### Ridge (mean)\n",
    "0.8014700184667937\n",
    "\n",
    "#### R^2\n",
    "0.7595152309062393\n",
    "\n"
   ]
  },
  {
   "cell_type": "markdown",
   "metadata": {},
   "source": [
    "## Benchmarks on Third Model\n",
    "#### This model is a variation of the third with some features added\n",
    "#### Even better than the third model. The best model I had time to fit. \n",
    "Features: ['overall_qual', 'overall_cond', '1st_flr_sf', 'exter_qual', 'gr_liv_area', 'garage_area', 'garage_cars', 'total_bsmt_sf', 'year_built', 'full_bath']\n",
    "\n",
    "\n",
    "### Linear Regression (mean) \n",
    "0.847013365201626\n",
    "\n",
    "### Lasso (mean)\n",
    "0.8125220627763596\n",
    "\n",
    "### Ridge (mean)\n",
    "0.8469678914187746\n",
    "\n",
    "#### R^2\n",
    "0.8204985214189768\n",
    "\n",
    "\n"
   ]
  }
 ],
 "metadata": {
  "kernelspec": {
   "display_name": "Python 3",
   "language": "python",
   "name": "python3"
  },
  "language_info": {
   "codemirror_mode": {
    "name": "ipython",
    "version": 3
   },
   "file_extension": ".py",
   "mimetype": "text/x-python",
   "name": "python",
   "nbconvert_exporter": "python",
   "pygments_lexer": "ipython3",
   "version": "3.8.5"
  }
 },
 "nbformat": 4,
 "nbformat_minor": 4
}
